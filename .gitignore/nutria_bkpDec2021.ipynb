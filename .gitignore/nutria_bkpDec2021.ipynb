{
 "cells": [
  {
   "cell_type": "markdown",
   "id": "e2e761e4",
   "metadata": {},
   "source": [
    "### Prologue: Importing packages"
   ]
  },
  {
   "cell_type": "code",
   "execution_count": 157,
   "id": "f3c8bf87",
   "metadata": {},
   "outputs": [],
   "source": [
    "import numpy as np\n",
    "import copy as cp\n",
    "import scipy, os, time\n",
    "import random\n",
    "import params_file as pf\n",
    "from scipy import stats\n",
    "import math\n",
    "import matplotlib.pyplot as plt\n",
    "%matplotlib inline"
   ]
  },
  {
   "cell_type": "code",
   "execution_count": 2,
   "id": "829f8add",
   "metadata": {},
   "outputs": [],
   "source": [
    "import cProfile #This is to benchmark the code. Recommended by Djole."
   ]
  },
  {
   "cell_type": "code",
   "execution_count": 3,
   "id": "1ce1ad40",
   "metadata": {},
   "outputs": [],
   "source": [
    "from concurrent.futures import ProcessPoolExecutor # for using multiple cores."
   ]
  },
  {
   "cell_type": "markdown",
   "id": "42477ff6",
   "metadata": {},
   "source": [
    "## Chapter 1a: Class-related stuff (skip if not using classes)"
   ]
  },
  {
   "cell_type": "code",
   "execution_count": 64,
   "id": "ef9f1017",
   "metadata": {},
   "outputs": [],
   "source": [
    "class Organism(object):\n",
    "    \"\"\"To access attributes from the Organism class, do smth along the lines of:\n",
    "    >>> founder_pop.individuals[0].grn\"\"\"\n",
    "    def __init__(self,name,generation,num_genes,prop_unlinked,prop_no_threshold,thresh_boundaries,decay_boundaries,dev_steps,decays,thresholds,start_vect,grn,development,fitness,genome,proteome):\n",
    "        self.name=name\n",
    "        self.generation = generation\n",
    "        self.num_genes = num_genes\n",
    "        self.prop_unlinked = prop_unlinked\n",
    "        self.prop_no_threshold = prop_no_threshold\n",
    "        self.thresh_boundaries = thresh_boundaries\n",
    "        self.decay_boundaries = decay_boundaries\n",
    "        self.dev_steps = dev_steps\n",
    "        self.decays = decays\n",
    "        self.thresholds = thresholds\n",
    "        self.start_vect = start_vect\n",
    "        self.grn = grn\n",
    "        self.development = development\n",
    "        self.genes_on = (self.development.sum(axis=0) != 0).astype(int)\n",
    "        self.fitness = fitness\n",
    "        self.genome = genome\n",
    "        self.proteome= proteome        \n",
    "        "
   ]
  },
  {
   "cell_type": "code",
   "execution_count": 65,
   "id": "2943f17b",
   "metadata": {},
   "outputs": [],
   "source": [
    "class Population(object):\n",
    "    def __init__(self,pop_size,parent=None):\n",
    "        self.pop_size = pop_size\n",
    "        self.parent = parent\n",
    "        self.individuals = None\n",
    "    \n",
    "    def populate(self):\n",
    "        self.individuals = producePop(self.pop_size,self.parent)\n",
    "    \n",
    "    def remove_dead(self):\n",
    "        fitnesses = np.array([ x.fitness for x in self.individuals ])\n",
    "        self.individuals = self.individuals[ fitnesses > 0 ]\n",
    "        self.pop_size = self.individuals.size"
   ]
  },
  {
   "cell_type": "code",
   "execution_count": 35,
   "id": "6c413925",
   "metadata": {},
   "outputs": [],
   "source": [
    "def makeNewOrganism(parent=None):\n",
    "    if parent: # This section mutates an ancestor.\n",
    "        thresh_mutation_rate = pf.thresh_mutation_rate\n",
    "        decay_mutation_rate = pf.decay_mutation_rate\n",
    "        thresh_decay_mut_bounds = pf.thresh_decay_mut_bounds\n",
    "        new_link_bounds = pf.new_link_bounds\n",
    "        link_mutation_bounds = pf.link_mutation_bounds\n",
    "        generation = parent.generation + 1\n",
    "        name = parent.name.split(\"gen\")[0] + \"gen\" + str(generation)\n",
    "        start_vect = parent.start_vect\n",
    "        seq_mutation_rate = pf.seq_mutation_rate\n",
    "        genome,proteome = mutate_genome(parent.genome,parent.proteome,seq_mutation_rate)\n",
    "        grn,decays,thresholds,development,fitness = master_mutator(np.array(parent.sequences),np.array(parent.start_vect),int(parent.dev_steps),int(parent.num_mutable_values),np.array(parent.grn),np.array(parent.decays),np.array(parent.thresholds),sequences)\n",
    "        out_org = Organism(name,generation,parent.num_genes,parent.prop_unlinked,parent.prop_no_threshold,parent.thresh_boundaries,parent.decay_boundaries,parent.dev_steps,decays,thresholds,start_vect,grn,development,fitness,sequences)\n",
    "    else: # This section creates a new organism from scratch\n",
    "        num_genes = pf.num_genes\n",
    "        decay_boundaries = pf.decay_boundaries\n",
    "        prop_no_threshold = pf.prop_no_threshold\n",
    "        thresh_boundaries = pf.thresh_boundaries\n",
    "        prop_unlinked = pf.prop_unlinked\n",
    "        dev_steps = pf.dev_steps\n",
    "        name = \"Lin\" + str(int(np.random.random() * 1000000)) + \"gen0\"\n",
    "        decays = randomMaskedVector(num_genes,0,decay_boundaries[0],decay_boundaries[1]) #BUG: check why some values are zero. Decays must never be zero ::--:: not sure this is still happening (7/9/2020 - CJR)\n",
    "        thresholds = randomMaskedVector(num_genes,prop_no_threshold,thresh_boundaries[0],thresh_boundaries[1])\n",
    "        start_vect = (lambda x: np.array([1]*1+[0]*(x-1)))(num_genes)#makeStartVect(num_genes)\n",
    "        grn = makeGRN(num_genes,prop_unlinked)\n",
    "        development = develop(start_vect,grn,decays,thresholds,dev_steps)\n",
    "        fitness = calcFitness(development)\n",
    "        if fitness == 0:\n",
    "            genome,proteome = None,None\n",
    "        else:\n",
    "            genome,proteome = makeGenomeandProteome(pf.seq_length,num_genes,dna_codons,trans_aas)\n",
    "        out_org = Organism(name,0,num_genes,prop_unlinked,prop_no_threshold,thresh_boundaries,decay_boundaries,dev_steps,decays,thresholds,start_vect,grn,development,fitness,genome,proteome)\n",
    "    return(out_org)"
   ]
  },
  {
   "cell_type": "code",
   "execution_count": 13,
   "id": "da0f4b22",
   "metadata": {},
   "outputs": [],
   "source": [
    "def producePop(pop_size,parent=None):\n",
    "    popu = np.ndarray((pop_size,),dtype=object)\n",
    "    if not parent:\n",
    "        for i in range(pop_size):\n",
    "            popu[i] = makeNewOrganism()\n",
    "    else:\n",
    "        if type(parent) is Organism:\n",
    "            for i in range(pop_size):\n",
    "        #print(\"Making member number\",i,\"of the new population\")\n",
    "                popu[i] = makeNewOrganism(parent)\n",
    "        else:\n",
    "            print(\"The type of the parent is not correct\",type(parent))\n",
    "    return(popu)"
   ]
  },
  {
   "cell_type": "code",
   "execution_count": 12,
   "id": "bcf6a390",
   "metadata": {},
   "outputs": [],
   "source": [
    "def founderFinder(min_fitness_val=0):\n",
    "    founder = makeNewOrganism()\n",
    "    while founder.fitness <= min_fitness_val:\n",
    "        founder = makeNewOrganism()\n",
    "    print(f\"Founder found with a fitness value of {founder.fitness}!!\")\n",
    "    return(founder)"
   ]
  },
  {
   "cell_type": "markdown",
   "id": "43d39c08",
   "metadata": {},
   "source": [
    "## Chapter 1b: Some other (static) declarations."
   ]
  },
  {
   "cell_type": "code",
   "execution_count": 3,
   "id": "859b81b3",
   "metadata": {},
   "outputs": [],
   "source": [
    "dna_codons=np.array(['ATA', 'ATC', 'ATT', 'ATG', 'ACA', 'ACC', 'ACG', 'ACT', 'AAC',\n",
    "       'AAT', 'AAA', 'AAG', 'AGC', 'AGT', 'AGA', 'AGG', 'CTA', 'CTC',\n",
    "       'CTG', 'CTT', 'CCA', 'CCC', 'CCG', 'CCT', 'CAC', 'CAT', 'CAA',\n",
    "       'CAG', 'CGA', 'CGC', 'CGG', 'CGT', 'GTA', 'GTC', 'GTG', 'GTT',\n",
    "       'GCA', 'GCC', 'GCG', 'GCT', 'GAC', 'GAT', 'GAA', 'GAG', 'GGA',\n",
    "       'GGC', 'GGG', 'GGT', 'TCA', 'TCC', 'TCG', 'TCT', 'TTC', 'TTT',\n",
    "       'TTA', 'TTG', 'TAC', 'TAT', 'TGC', 'TGT', 'TGG','TAA','TAG','TGA'], dtype=object)"
   ]
  },
  {
   "cell_type": "code",
   "execution_count": 4,
   "id": "dc36d651",
   "metadata": {},
   "outputs": [],
   "source": [
    "trans_aas=np.array(['I', 'I', 'I', 'M', 'T', 'T', 'T', 'T', 'N', 'N', 'K', 'K', 'S',\n",
    "       'S', 'R', 'R', 'L', 'L', 'L', 'L', 'P', 'P', 'P', 'P', 'H', 'H',\n",
    "       'Q', 'Q', 'R', 'R', 'R', 'R', 'V', 'V', 'V', 'V', 'A', 'A', 'A',\n",
    "       'A', 'D', 'D', 'E', 'E', 'G', 'G', 'G', 'G', 'S', 'S', 'S', 'S',\n",
    "       'F', 'F', 'L', 'L', 'Y', 'Y', 'C', 'C', 'W','_','_','_'], dtype=object)"
   ]
  },
  {
   "cell_type": "code",
   "execution_count": 5,
   "id": "99faeb85",
   "metadata": {},
   "outputs": [],
   "source": [
    "data_fields=np.array([\"generation\",\"genome\",\"proteome\",\"grn\",\"thresholds\",\"decays\",\"start_vect\",\"development\",\"genes_on\",\"fitness\"])"
   ]
  },
  {
   "cell_type": "markdown",
   "id": "1e2c00bc",
   "metadata": {},
   "source": [
    "# Chapter 2. Main functions to create an organism and a population\n",
    "### Both from scratch, and as a next generation"
   ]
  },
  {
   "cell_type": "markdown",
   "id": "3c283a65",
   "metadata": {},
   "source": [
    "I'll re-do the functions to create an organism, and now they'll be a row of numpy arrays, with the following contents:\n",
    "* \\[0\\] generation number (always '0' for the founder)\n",
    "* \\[1\\] the genome\n",
    "* \\[2\\] the proteome\n",
    "* \\[3\\] the grn\n",
    "* \\[4\\] the expression threshold levels\n",
    "* \\[5\\] the decay lambdas\n",
    "* \\[6\\] the starting vector\n",
    "* \\[7\\] the development\n",
    "* \\[8\\] the 'genes_on' vector\n",
    "* \\[9\\] the fitness\n",
    "\n",
    "I think the rest of the values, like genes on, number of genes, sequence length, etc. can be left for the parameters file, and/or calculated each time from any of the other.\n",
    "\n",
    "The output now is a population (i.e. an array where each 'row' is an organism array, and because this is a single organism only, it has only one 'row' - a single first dimension. This will hopefully make sense later)"
   ]
  },
  {
   "cell_type": "code",
   "execution_count": 53,
   "id": "65a68ae9",
   "metadata": {},
   "outputs": [],
   "source": [
    "def founder_miner(min_fitness=0.6):\n",
    "    fitness=0\n",
    "    while fitness < min_fitness:\n",
    "        # Importing values for producing the genomic sequences\n",
    "        n_generation=0\n",
    "        n_genes=pf.num_genes\n",
    "        seq_len=pf.seq_length\n",
    "        genome,proteome=makeGenomeandProteome(seq_len,n_genes,dna_codons,trans_aas)\n",
    "        #print(genome)\n",
    "        # Importing the values for producing all the regulatory information.\n",
    "        prop_off=pf.prop_unlinked # thresholds and decays will have the converse of this probability as 0s. See blow.\n",
    "        thresh_boundaries=pf.thresh_boundaries # tuple of 2 values.\n",
    "        decay_boundaries=pf.decay_boundaries # tuple of 2 values.\n",
    "        grn=makeGRN(n_genes,prop_off)\n",
    "        thresholds=randomMaskedVector(n_genes,(1-prop_off),thresh_boundaries[0],thresh_boundaries[1])\n",
    "        decays=randomMaskedVector(n_genes,(1-prop_off),decay_boundaries[0],decay_boundaries[1])\n",
    "        # Importing values for the developmental info\n",
    "        dev_steps=pf.dev_steps\n",
    "        start_vect=(lambda x: np.array([1]*1+[0]*(x-1)))(n_genes)\n",
    "        development=develop(start_vect,grn,decays,thresholds,dev_steps)\n",
    "        genes_on=(development.sum(axis=0) != 0).astype(int)\n",
    "        #print(f\"Current fitness {fitness} is lower than minimum {min_fitness}\")\n",
    "        fitness=calcFitness(development)\n",
    "        out_arr=np.array([np.array((n_generation,genome,proteome,grn,thresholds,decays,start_vect,development,genes_on,fitness),dtype=object)])\n",
    "    return(out_arr)"
   ]
  },
  {
   "cell_type": "markdown",
   "id": "f0be9eb9",
   "metadata": {},
   "source": [
    "The translate_codon() function well...it takes a codon (in DNA format) and outputs the corresponding amino acid. I've also re-written it in lambda-function format (now deleted), out of curiosity mainly, because changing it in the code I think will result in reduced readability."
   ]
  },
  {
   "cell_type": "code",
   "execution_count": 7,
   "id": "fe3f46ce",
   "metadata": {},
   "outputs": [],
   "source": [
    "def translate_codon(codon):\n",
    "    idx=np.where(dna_codons == codon)[0][0]\n",
    "    aminoac=trans_aas[idx]\n",
    "    return(aminoac)"
   ]
  },
  {
   "cell_type": "markdown",
   "id": "16a14694",
   "metadata": {},
   "source": [
    "# Chapter 3\n",
    "## Support functions for making an organism from scratch"
   ]
  },
  {
   "cell_type": "markdown",
   "id": "b6532269",
   "metadata": {},
   "source": [
    "#### GRN RELATED\n",
    "The makeGRN() function below will create a GRN as a numpy array of random regulatory interactions, with a user-defined proportion of interactions set to zero (the \"unlinked\" ones)."
   ]
  },
  {
   "cell_type": "code",
   "execution_count": 8,
   "id": "bf95e2e4",
   "metadata": {},
   "outputs": [],
   "source": [
    "def makeGRN(numGenes,prop_unlinked):\n",
    "    grn = randomMaskedVector(numGenes ** 2,prop_unlinked,-2,2)\n",
    "    grn = grn.reshape(numGenes,numGenes)\n",
    "    return(grn)"
   ]
  },
  {
   "cell_type": "markdown",
   "id": "7ba47d89",
   "metadata": {},
   "source": [
    "#### SEQUENCE RELATED\n",
    "**Below _were_ the TWO functions that create the sequence arrays. Now they're numpy string arrays of n genes by m codons.**\n",
    "Must trace back the function calls and correct any possible bugs. _makeRandomSequence()_, and _makeRandomSequenceArray()_."
   ]
  },
  {
   "cell_type": "code",
   "execution_count": 9,
   "id": "b2aab81d",
   "metadata": {},
   "outputs": [],
   "source": [
    "def makeGenomeandProteome(seq_length,num_genes,dna_codons=dna_codons,trans_aas=trans_aas):\n",
    "    if seq_length % 3:\n",
    "#        print(\"Sequence length\",seq_length,\"is not a multiple of 3.\")\n",
    "        seq_length = seq_length - (seq_length % 3)\n",
    "        num_codons = int(seq_length/3)\n",
    "#        print(\"Rounding to\", seq_length,\"for\",num_codons,\"codons\")\n",
    "    else:\n",
    "        num_codons=int(seq_length/3)\n",
    "    idx_vect=np.array(range(0,len(dna_codons)-3))\n",
    "    genome_arr=np.empty((num_genes,num_codons),dtype=object)\n",
    "    proteome_arr=np.empty((num_genes,num_codons),dtype=object)\n",
    "    for i in range(0,num_genes):\n",
    "        rand_codon_idx=np.hstack((np.random.choice(idx_vect,(num_codons-1)),np.random.choice((61,62,63),1)))\n",
    "        #len(rand_codons)\n",
    "        genome_arr[i]=np.array(dna_codons[rand_codon_idx])\n",
    "        proteome_arr[i]=np.array(trans_aas[rand_codon_idx])\n",
    "    return(genome_arr,proteome_arr)"
   ]
  },
  {
   "cell_type": "markdown",
   "id": "b369c86f",
   "metadata": {},
   "source": [
    "#### OTHER SUPPORTING FUNCTIONS"
   ]
  },
  {
   "cell_type": "code",
   "execution_count": 10,
   "id": "8567dcda",
   "metadata": {},
   "outputs": [],
   "source": [
    "# Function that creates a vector of a given amount of values (within a given range), in which a certain proportion of the values are masked.\n",
    "def randomMaskedVector(num_vals,prop_zero=0,min_val=0,max_val=1):\n",
    "    if min_val > max_val:\n",
    "        print(\"Error: minimum value greater than maximum value\")\n",
    "        return\n",
    "    range_size = max_val - min_val\n",
    "    if prop_zero == 0:\n",
    "        rpv = np.array(range_size * np.random.random(num_vals) + min_val)\n",
    "    else:\n",
    "        mask = np.random.choice((0,1),num_vals,p=(prop_zero,1-prop_zero))\n",
    "        rpv = np.array(range_size * np.random.random(num_vals) + min_val)\n",
    "        rpv = (rpv * mask) + 0\n",
    "    return(rpv)"
   ]
  },
  {
   "cell_type": "markdown",
   "id": "7b61452c",
   "metadata": {},
   "source": [
    "# Chapter 4:\n",
    "## Mutation Functions"
   ]
  },
  {
   "cell_type": "markdown",
   "id": "af2144b1",
   "metadata": {},
   "source": [
    "### Genome Mutation\n",
    "Essentially, what genome_mutation() does now is:\n",
    "* Takes in the genome and proteome that will be mutated\n",
    "* Takes in an array with 3D coordinates for each mutation, in the format \\[gene_number,codon_number_ingene,codon_position\\]\n",
    "* For each mutation:\n",
    "   1. mutate the correct nucleotide\n",
    "   2. translate the mutated codon\n",
    "   3. determine what kind of mutation it was (nonsense, non-syn, syn)\n",
    "   4. add the gene number and the mutation type into the muttype_vect object\n",
    "* Once this is done, the function outputs the mutated genome, the mutated proteome, and the array that says what type of mutation happened where (nonsense = 0, nonsyn=1, syn=2)."
   ]
  },
  {
   "cell_type": "code",
   "execution_count": 11,
   "id": "fb764445",
   "metadata": {},
   "outputs": [],
   "source": [
    "def mutate_genome(gnome,prome,mut_coords):\n",
    "    mut_num=mut_coords.shape[0] #get the number of rows in the mutation coordinate array, this is the number of mutations\n",
    "    muttype_vect=np.ndarray((mut_num,2),dtype=object)\n",
    "    for i in range(mut_num):\n",
    "        coordinates=mut_coords[i,:]\n",
    "        #print(coordinates)\n",
    "        selected_gene=coordinates[0]\n",
    "        selected_codon_from_gene=coordinates[1]\n",
    "        selected_codpos=coordinates[2]\n",
    "        #print((selected_gene,selected_codon_from_gene),selected_codpos)\n",
    "        selected_codon=gnome[selected_gene,selected_codon_from_gene]\n",
    "        prev_aacid=translate_codon(selected_codon)\n",
    "        mutated_codon=pointMutateCodon(selected_codon,selected_codpos)\n",
    "        gnome[selected_gene,selected_codon_from_gene]=mutated_codon\n",
    "        new_aacid=translate_codon(mutated_codon)\n",
    "        if prev_aacid == new_aacid: #Synonymous mutations are plotted as '2'\n",
    "            muttype=2\n",
    "        elif new_aacid == \"_\": # Nonsense mutations are plotted as '0'\n",
    "            muttype=0\n",
    "        else: # Nonsynonymous mutations are plotted as '1'\n",
    "            muttype=1\n",
    "        prome[selected_gene,selected_codpos]=new_aacid\n",
    "        muttype_vect[i]=(selected_gene,muttype)\n",
    "    out_genome=gnome\n",
    "    out_proteome=prome\n",
    "    return(out_genome,out_proteome,muttype_vect)"
   ]
  },
  {
   "cell_type": "markdown",
   "id": "6db487f1",
   "metadata": {},
   "source": [
    "#### codPos function\n",
    "This function takes in an array of mutation sites (with reference to the whole genome - i.e., a genome of 5 genes with 500 codons each will result in numbers ranging from 0 to 5\\*500*3=7500, and outputs a 3D array that, for each mutation, will give a 3-number coordinate in the format: \\[gene_number,codon_number(in gene),codon_position]. This will then be moved into the mutation function, and each mutated base can be accessed through genome[gene_number,codon_number][codon_position]. Also it has the obvious benefit of pinpointing exactly where each mutation is occurring.\n",
    "In the end, I decided to produce 'keys': arrays of the same size of the genome, that for each base have, respectively, the gene number, the codon number in the gene, and the codon position."
   ]
  },
  {
   "cell_type": "code",
   "execution_count": 12,
   "id": "b24d72f2",
   "metadata": {},
   "outputs": [],
   "source": [
    "def codPos(muts,num_genes,num_codons):\n",
    "    #base1=num+1\n",
    "    out_array=np.ndarray((muts.size,3),dtype=object)\n",
    "    gene_bps=num_codons*3\n",
    "    genome_bps=gene_bps*num_genes\n",
    "    genenum_array=np.ndarray((num_genes,gene_bps),dtype=object)\n",
    "    for i in range(num_genes):\n",
    "        genenum_array[i,:]=i\n",
    "    genenum_array=genenum_array.flatten()\n",
    "    #print(\"genenum_array:\",genenum_array)\n",
    "    codpos_array=np.tile([0,1,2],num_codons*num_genes)\n",
    "    #print(\"codpos_array:\",codpos_array)\n",
    "    codnum_array=np.ndarray((num_genes,gene_bps),dtype=object)\n",
    "    for i in range(num_genes):\n",
    "        codnum_array[i,:]=np.repeat(range(num_codons),3)\n",
    "    codnum_array=codnum_array.flatten()\n",
    "    #print(\"codnum_array:\",codnum_array)\n",
    "    for i in range(muts.size):\n",
    "        basenum=muts[i]\n",
    "        mut_val=np.array([genenum_array[basenum],codnum_array[basenum],codpos_array[basenum]])\n",
    "        out_array[i,:]=mut_val\n",
    "    return(out_array)\n",
    "    "
   ]
  },
  {
   "cell_type": "code",
   "execution_count": 13,
   "id": "b9f28577",
   "metadata": {},
   "outputs": [],
   "source": [
    "def randomMutations(in_genome,mut_rateseq):\n",
    "    total_bases=in_genome.size*3 #Each value in the genome is a codon, so the whole length (in nucleotides) is the codons times 3\n",
    "    mutations=np.random.choice((0,1),total_bases,p=(1-mut_rateseq,mut_rateseq))\n",
    "    m=np.array(np.where(mutations != 0)).flatten()\n",
    "    if m.size:\n",
    "        output=m\n",
    "    else:\n",
    "        output=False\n",
    "    return(output)"
   ]
  },
  {
   "cell_type": "code",
   "execution_count": 158,
   "id": "6fd0868f",
   "metadata": {},
   "outputs": [],
   "source": [
    "# Input is an organism array, as produced by the founder_miner() function, and the mutation rate of the nucleotide sequence (i.e. mutation probability per base).\n",
    "def genomeMutatorWrapper(orgarr,mut_rateseq):\n",
    "    orgarr=cp.deepcopy(orgarr)\n",
    "    orgarr=orgarr[0]\n",
    "    in_gen_num=orgarr[0]\n",
    "    in_genome=orgarr[1]\n",
    "    in_proteome=orgarr[2]\n",
    "    in_grn=orgarr[3]\n",
    "    in_thresh=orgarr[4]\n",
    "    in_decs=orgarr[5]\n",
    "    in_start_vect=orgarr[6]\n",
    "    in_dev=orgarr[7]\n",
    "    in_genes_on=(in_dev.sum(axis=0) != 0).astype(int)\n",
    "    in_fitness=orgarr[9]\n",
    "    mutations=randomMutations(in_genome,mut_rateseq)\n",
    "    #print(mutations)\n",
    "    if np.any(mutations):\n",
    "        mut_coords=codPos(mutations,in_genome.shape[0],in_genome.shape[1])\n",
    "        #print(mut_coords)\n",
    "        out_genome,out_proteome,mutlocs=mutate_genome(in_genome,in_proteome,mut_coords)\n",
    "        out_grn,out_thresh,out_decs=regulator_mutator(in_grn,in_genes_on,in_decs,in_thresh,mutlocs)\n",
    "        out_dev=develop(in_start_vect,out_grn,out_decs,out_thresh,pf.dev_steps)\n",
    "        out_genes_on=(out_dev.sum(axis=0) != 0).astype(int)\n",
    "        out_fitness=calcFitness(out_dev)\n",
    "    else:\n",
    "        out_genome=in_genome\n",
    "        out_proteome=in_proteome\n",
    "        out_grn=in_grn\n",
    "        out_thresh=in_thresh\n",
    "        out_decs=in_decs\n",
    "        out_dev=in_dev\n",
    "        out_genes_on=(out_dev.sum(axis=0) != 0).astype(int)\n",
    "        out_fitness=in_fitness\n",
    "    out_gen_num=in_gen_num+1\n",
    "    out_org=np.array([[out_gen_num,out_genome,out_proteome,out_grn,out_thresh,out_decs,out_genes_on,out_dev,out_genes_on,out_fitness]],dtype=object)\n",
    "    return(out_org)"
   ]
  },
  {
   "cell_type": "code",
   "execution_count": 16,
   "id": "f0b505b3",
   "metadata": {},
   "outputs": [],
   "source": [
    "def pointMutateCodon(codon,pos_to_mutate):\n",
    "    bases=(\"T\",\"C\",\"A\",\"G\")\n",
    "    base=codon[pos_to_mutate]\n",
    "    change = [x for x in bases if x != base]\n",
    "    new_base = np.random.choice(change)\n",
    "    split_codon=np.array(list(codon))\n",
    "    split_codon[pos_to_mutate]=new_base\n",
    "    new_codon=\"\".join(split_codon)\n",
    "    return(new_codon)"
   ]
  },
  {
   "cell_type": "markdown",
   "id": "0fcb6084",
   "metadata": {},
   "source": [
    "### GRN mutation"
   ]
  },
  {
   "cell_type": "markdown",
   "id": "c9ccc406",
   "metadata": {},
   "source": [
    "##### weight_mut():\n",
    "This function was built for the special case of when all the genes are expressed in the genome, so no *actual* synonymous mutation can be done. In such cases, I'll assume that a synonymous mutation is simply a **very minor** change in the GRN, even in an interaction that exists already. However, I realized that this function can be generalized to do any change, using the arguments to control it. For example, non-synonymous changes could also use the same function, but with a higher scale value and activations can be done by giving as a value the average weight, and adding a small percentage as a scaler.\n",
    "\n",
    "For this, _weight_mut()_ takes in the value, and gives as a result a random number chosen from a uniform distribution that goes from -value(1/_x_) to value(1/_x_), where x is a scaling factor that by default is 100.\n",
    "\n",
    "So, a synoymous change in weights would be a random number that will be smaller than a hundredth of the current value. Needless to say, this won't work with links that are 'off' (=0)."
   ]
  },
  {
   "cell_type": "code",
   "execution_count": 17,
   "id": "5bc70514",
   "metadata": {},
   "outputs": [],
   "source": [
    "def weight_mut(value,scaler=0.01):\n",
    "    val=abs(value) #Make sure value is positive\n",
    "    if val == 0:\n",
    "        '''For values at zero, simply get 1, and then modify it by the scale\n",
    "        This is for activating thresholds that are 0.'''\n",
    "        val=scaler/scaler\n",
    "    scaled_val=val*scaler #scale the value\n",
    "    newVal=value+np.random.uniform(-scaled_val,scaled_val) #add the scaled portion to the total value to get the final result.\n",
    "    return(newVal)"
   ]
  },
  {
   "cell_type": "code",
   "execution_count": 57,
   "id": "8b849f70",
   "metadata": {},
   "outputs": [],
   "source": [
    "def threshs_and_decs_mutator(in_thresh,in_dec,mutarr):\n",
    "    #print(f\"Input thresholds were: {in_thresh}\")\n",
    "    #print(f\"Input decays were: {in_dec}\")\n",
    "    #print(f\"Input mutarr was:\\n{mutarr}\")\n",
    "    the_tuple=(in_thresh,in_dec) # make a tuple in which the threshold array is the first value, and the decays the second.\n",
    "    # This will allow me to easily choose among them at the time of mutating, see within the for loop.\n",
    "    num_genes=len(in_thresh) #get the number of genes from the amount of values in the thresholds array\n",
    "    genes=mutarr[:,0] # get the genes to be mutated from the mutarray's 1st column\n",
    "    #print(f\"The array of genes to be mutated is:\\n{genes}\")\n",
    "    for i in np.arange(len(genes)): #go through each gene, and decide randomly whether to make a threshold or a decay mutation in the gene.'''\n",
    "        tuple_idx=np.random.choice((0,1))\n",
    "        #print(f\"Thresholds = 0, Decays = 1, Random choice was = {tuple_idx}\")\n",
    "        gene_num=genes[i] # extract specific gene number that has to be mutated. This maps to the thresh and dec arrays.\n",
    "        #print(f\"This means that gene {gene_num} will be mutated:\\nValue {the_tuple[tuple_idx][gene_num]}\")\n",
    "        new_value=abs(weight_mut(the_tuple[tuple_idx][gene_num]))\n",
    "        the_tuple[tuple_idx][gene_num]=new_value\n",
    "        #print(f\"...is now {new_value}\")\n",
    "    out_thresh,out_decs=(the_tuple[0],the_tuple[1])\n",
    "    return(out_thresh,out_decs)"
   ]
  },
  {
   "cell_type": "markdown",
   "id": "b44c3629",
   "metadata": {},
   "source": [
    "### Regulation mutation function\n",
    "This function looks quite big because it's in charge of translating the sequence mutations into mutations in any of the regulatory interactions (GRN weights, gene decay rates, gene expression thresholds).\n",
    "Inputs:\n",
    "* A parental organism (but could be just the GRN)\n",
    "* The 'muttype_vect' array\n",
    "    * Came out of the genome mutator function\n",
    "        * For each mutation:\n",
    "            * First col: gene number\n",
    "            * Second col: type of mutation:\n",
    "                * 0=nonsense\n",
    "                * 1=non-synonymous\n",
    "                * 2=synonymous mutations\n",
    "                \n",
    "First off, it decides with a biased coin toss whether any of the mutated genes passed in the muttype_vect array will be thresholds or decays. The coin toss is biased because the thresholds and decay rates represent only a small amount of the regulatory interactions present. Precisely, they represent only 2N/(2N+N^2) of the interactions, where N is the number of genes. In this function, I've algebraically simplified the expression to 2/(2+N). If it ends up choosing any number of mutations to be in the thresholds or the decay rates, it calls the \"threshs_and_decs_mutation()\" function (declared above), and sends over the chosen mutations there, while removing them from the original muttype_vect, so as not to mutate repeatedly the same genes in the GRN.\n",
    "\n",
    "Then, it goes through each remaining entry in the muttype_vect and mutates the regulatory link/weight according to the following set of rules:\n",
    "* If the mutation is nonsense ('0'):\n",
    "    1. Multiply the column and the row of that gene by 0\n",
    "* If the gene is ON:\n",
    "    1. Identify all the nonzero values for that gene\n",
    "    2. If the mutation is non-synonymous ('1'):\n",
    "        * mutate a random nonzero value with weight_mut(orig_value,0.5). weight_mut() mutates _orig_value_ by adding or subtracting any amount in between the -_p_ and +_p_, _p_ being in this case 0.5, or __half__ the amount of _orig_value_.\n",
    "    3. If the mutation is synonymous ('2'):\n",
    "        * mutate a random nonzero a tiiiiiny little with weight_mut(orig_value,0.001). See? here the mutation will never be more than a thousandth of the value. Tiiiiiiiiiny.\n",
    "    4. Otherwise return 'None' (in case some botched code sends a value that's neither 0,1,or 2)\n",
    "* If the gene is OFF:\n",
    "    1. If the mutation is non-synonymous ('1'):\n",
    "        * identify all __zero/inactive__ values for that gene\n",
    "        * turn a random *inactive* value __ON__, choosing the number from the mean expressed value, and randomly choosing the sign\n",
    "    2. If the mutation is synonymous ('2'):\n",
    "        * identify all __active__ values for that gene\n",
    "        * choose one at random, and mutate it with weight_mut(orig_value,0.5)\n",
    "    3. Otherwise also return 'None'\n",
    "* Return the modified grn, decay rates vector, and expression thresholds vector.\n"
   ]
  },
  {
   "cell_type": "code",
   "execution_count": 58,
   "id": "f6827e51",
   "metadata": {},
   "outputs": [],
   "source": [
    "def regulator_mutator(in_grn,genes_on,in_dec,in_thresh,muttype_vect):\n",
    "    inactive_links=np.array(list(zip(np.where(in_grn == 0)[0],np.where(in_grn == 0)[1])))\n",
    "    '''I'm adding here a section that decides if any of the mutations will go to the thresholds or the decays.\n",
    "    If there are any changes that have to happen in the decays and/or thresholds, we can call their mutation\n",
    "    function. Otherwise we can keep on going.'''\n",
    "    in_thr=in_thresh\n",
    "    num_genes=pf.num_genes\n",
    "    prop=2/(2+num_genes**2) #proportion of mutable sites that are thresholds OR decays\n",
    "    hits=np.nonzero(np.random.choice((0,1),len(muttype_vect),p=(1-prop,prop)))[0]\n",
    "    if hits.size > 0:\n",
    "        mutsarr=muttype_vect[hits]\n",
    "        #print(f\"Sending mutations:\\n{mutsarr} to decays/thresholds\")\n",
    "        out_threshs,out_decs=threshs_and_decs_mutator(in_thresh,in_dec,mutsarr)\n",
    "        muttype_vect=np.delete(muttype_vect,hits,axis=0)\n",
    "    else:\n",
    "        out_threshs,out_decs=in_thresh,in_dec\n",
    "    for i in muttype_vect:\n",
    "        gene=i[0]\n",
    "        mtype=i[1]\n",
    "        #print(f\"Gene {gene} has mutation type {mtype}\")\n",
    "        if mtype != 0: # For all non-KO mutations (i.e. synonymous, and non-synonymous)...\n",
    "            if genes_on[gene]: # If the gene is ON...\n",
    "                active_links=np.array(list(zip(np.nonzero(in_grn)[0],np.nonzero(in_grn)[1])))\n",
    "                #print(f\"Gene {gene} is ON ({genes_on[gene]}).\\nOverall active links are:\\n{active_links}\")\n",
    "                actives_in_gene=np.concatenate((active_links[active_links[:,1] == gene,:],active_links[active_links[:,0] == gene,:]),axis=0) # get the gene's active links\n",
    "                #print(f\"Gene {gene}'s active links are:\\n{actives_in_gene}, which have the values:\\n{in_grn[actives_in_gene]}\")\n",
    "                #print(f\"GRN is:\\n{in_grn}\")\n",
    "                if mtype == 1: # And the mutation is non-synonymous...\n",
    "                    #print(f\"Mutation {mtype} is NS\")\n",
    "                    #print(f\"range to be used is range({len(actives_in_gene)})\")\n",
    "                    rand_idx=np.random.choice(np.arange(len(actives_in_gene))) # FIXED # get a random index number for mutating a link\n",
    "                    coordinates=tuple(actives_in_gene[rand_idx,:]) # get the random link's specific coordinates\n",
    "                    val=in_grn[coordinates] # Extract the value that will be mutated.\n",
    "                    in_grn[coordinates]=weight_mut(val,0.5) # mutate the value.\n",
    "                    #print(f\"Mutating coordinate {coordinates} of the GRN, currently showing the value {val} to {in_grn[coordinates]}\")\n",
    "                elif mtype == 2: # If gene is ON, and the mutation is synonymous...\n",
    "                    #print(f\"Mutation {mtype} is S\")\n",
    "                    #print(f\"range to be used is range({len(actives_in_gene)})\")\n",
    "                    rand_idx=np.random.choice(np.arange(len(actives_in_gene))) # FIXED # Same as above\n",
    "                    coordinates=tuple(actives_in_gene[rand_idx,:]) # Same as above\n",
    "                    val=in_grn[coordinates] # Same as above\n",
    "                    in_grn[coordinates]=weight_mut(val,0.001) # mutate the value by a very small amount.\n",
    "                    #print(f\"Mutating coordinate {coordinates} of the GRN a tiny little only, from {val} to {in_grn[coordinates]}\")\n",
    "                else:\n",
    "                    #print(f\"Gene {gene} is neither on nor off, its state is {genes_on[gene]}\")\n",
    "                    None\n",
    "            else: # If the gene is OFF...\n",
    "                #print(f\"Gene {gene} is OFF ({genes_on[gene]})\")\n",
    "                if mtype == 1: # And the mutation is non-synonymous\n",
    "                    #print(f\"And gene{gene}'s mutation is NS\")\n",
    "                    inactive_links=np.array(list(zip(np.where(in_grn == 0)[0],np.where(in_grn == 0)[1])))\n",
    "                    inactives_in_gene=np.concatenate((inactive_links[inactive_links[:,1] == gene,:],inactive_links[inactive_links[:,0] == gene,:]),axis=0)\n",
    "                    rand_idx=np.random.choice(np.arange(len(inactives_in_gene))) # FIXED # Same as above, but with inactives instead\n",
    "                    coordinates=tuple(inactives_in_gene[rand_idx,:]) # Same as above above             \n",
    "                    mean_exp_val=np.mean(np.abs(in_grn[np.nonzero(in_grn)])) # Mean expression amount\n",
    "                    sign=np.random.choice((-1,1)) # Randomly choose between negative or positive\n",
    "                    new_val=mean_exp_val*sign\n",
    "                    #print(f\"Flipping inactive value at coordinate {coordinates} on at level {new_val}\")\n",
    "                    in_grn[coordinates]=new_val\n",
    "                elif mtype == 2: # If gene is OFF, and the mutation is synonymous...\n",
    "                    active_links=np.array(list(zip(np.nonzero(in_grn)[0],np.nonzero(in_grn)[1])))\n",
    "                    actives_in_gene=np.concatenate((active_links[active_links[:,1] == gene,:],active_links[active_links[:,0] == gene,:]),axis=0) # get the gene's active links\n",
    "                    #print(f\"range to be used is range({len(actives_in_gene)})\")\n",
    "                    rand_idx=np.random.choice(np.arange(len(actives_in_gene))) # FI}XED # get a random index number for mutating a link\n",
    "                    coordinates=tuple(actives_in_gene[rand_idx,:]) # get the random link's specific coordinates\n",
    "                    val=in_grn[coordinates] # Extract the value that will be mutated.\n",
    "                    #print(f\"Mutating coordinate {coordinates} of the GRN, currently showing the value {val}\")\n",
    "                    in_grn[coordinates]=weight_mut(val,0.5) # mutate the value.\n",
    "                else:\n",
    "                    None\n",
    "        else:\n",
    "            in_grn[gene,:]=0\n",
    "            in_grn[:,gene]=0\n",
    "            out_grn=in_grn\n",
    "            #print(f\"Knocking out gene{gene}\")\n",
    "    out_grn=in_grn\n",
    "    return(out_grn,out_threshs,out_decs)"
   ]
  },
  {
   "cell_type": "markdown",
   "id": "77c4abb7",
   "metadata": {},
   "source": [
    "## Development function\n",
    "Gets the GRN and simulates the development of it through an iterative matrix dot product."
   ]
  },
  {
   "cell_type": "code",
   "execution_count": 20,
   "id": "da01d8e0",
   "metadata": {},
   "outputs": [],
   "source": [
    "def develop(start_vect,grn,decays,thresholds,dev_steps):\n",
    "    start_vect = start_vect\n",
    "#    print(f\"Starting with vector: {start_vect}\\n and thresholds {thresholds}\")\n",
    "    geneExpressionProfile = np.ndarray(((pf.dev_steps+1),pf.num_genes))\n",
    "    geneExpressionProfile[0] = np.array([start_vect])\n",
    "    #Running the organism's development, and outputting the results\n",
    "    #in an array called geneExpressionProfile\n",
    "    invect = start_vect\n",
    "    counter=1\n",
    "    for i in range(dev_steps):\n",
    "#      print(f\"Development step {counter}\")\n",
    "        decayed_invect = (lambda x, l: x*np.exp(-l))(invect,decays) # apply decay to all gene qties. previously: exponentialDecay(invect,decays)\n",
    "#        print(f\"Shapes of objects to be fed to matmul:\\n{grn.shape}\\t{decayed_invect.shape}\")\n",
    "        exp_change = np.matmul(grn,decayed_invect) #calculate the regulatory effect of the decayed values.\n",
    "#        exp_change = myDotProd(grn,decayed_invect) #check my bootleg dot product function\n",
    "#        print(f\"Output of dot product:\\n{exp_change}\")\n",
    "        pre_thresholds = exp_change + decayed_invect # add the decayed amounts to the regulatory effects\n",
    "#        print(f\"Result when added:\\n{pre_thresholds}\")\n",
    "        thresholder = (pre_thresholds > thresholds).astype(int) # a vector to rectify the resulting values to their thresholds.\n",
    "#        print(f\"Threshold rectifier vector:\\n{thresholder}\")\n",
    "        currV = pre_thresholds * thresholder # rectify with the thresholder vect. This step resulted in the deletion of the 'rectify()' function\n",
    " #       print(f\"Rectifying with the thresholds gives:\\n{currV}\")\n",
    " #      currV = currV\n",
    "        geneExpressionProfile[(i+1)] = currV\n",
    "        invect = currV\n",
    "        counter=counter+1\n",
    "    return(geneExpressionProfile)"
   ]
  },
  {
   "cell_type": "code",
   "execution_count": 21,
   "id": "d2f050ed",
   "metadata": {},
   "outputs": [],
   "source": [
    "def myDotProd(grn,expression_vect):\n",
    "    for i in np.arange(expression_vect.size):\n",
    "        print(f\"Using {expression_vect[i]} for the GRN dot product, index {i}\")\n",
    "        grn[:,i]=grn[:,i]*expression_vect[i]\n",
    "    out=grn.sum(axis=0)\n",
    "    return(out)"
   ]
  },
  {
   "cell_type": "markdown",
   "id": "123dd24b",
   "metadata": {},
   "source": [
    "### Fitness functions\n",
    "The function that calculates the fitness of an organism based on its development, and the accessory functions that calculate parts of it."
   ]
  },
  {
   "cell_type": "code",
   "execution_count": 22,
   "id": "4666bf04",
   "metadata": {},
   "outputs": [],
   "source": [
    "def calcFitness(development):\n",
    "    min_reproducin = pf.min_reproducin\n",
    "    is_alive = lastGeneExpressed(development,min_reproducin)\n",
    "    if is_alive:\n",
    "        genes_on = propGenesOn(development)\n",
    "        exp_stab = expressionStability(development)\n",
    "        sim_to_exp = exponentialSimilarity(development)\n",
    "        fitness_val = np.mean([genes_on,exp_stab,sim_to_exp])\n",
    "    else:\n",
    "        fitness_val = 0\n",
    "    return(fitness_val)\n",
    "def lastGeneExpressed(development,min_reproducin):\n",
    "    dev_steps,num_genes = development.shape\n",
    "    last_col_bool = development[:,(num_genes - 1)] > min_reproducin\n",
    "    last_val_last_col = development[dev_steps - 1, (num_genes - 1)]\n",
    "    if last_col_bool.any() and last_val_last_col > 0:\n",
    "        return_val = True\n",
    "    else:\n",
    "        return_val = False\n",
    "    return(return_val)\n",
    "def propGenesOn(development):\n",
    "    genes_on = development.sum(axis=0) > 0\n",
    "    return(genes_on.mean())\n",
    "def expressionStability(development):  # I haven't thought deeply about this.\n",
    "    row_sums = development.sum(axis=1)# What proportion of the data range is\n",
    "    stab_val = row_sums.std() / (row_sums.max() - row_sums.min()) # the stdev? Less = better\n",
    "    return(stab_val)\n",
    "def exponentialSimilarity(development):\n",
    "    dev_steps,num_genes = development.shape\n",
    "    row_means = development.mean(axis=1)\n",
    "    tot_dev_steps = dev_steps\n",
    "    fitted_line = scipy.stats.linregress(range(tot_dev_steps),np.log(row_means))\n",
    "    r_squared = fitted_line.rvalue ** 2\n",
    "    return(r_squared)"
   ]
  },
  {
   "cell_type": "markdown",
   "id": "23ef4cd2",
   "metadata": {},
   "source": [
    "### Chapter 5: Population-making functions.\n",
    "These functions are meant to create a population from an arbitrary number of organisms. Thus, it will take as an input an array of organism arrays and the final total number of organisms in the population, and the reproductive strategy ('equals' means that each organism will be reproduced in equal amounts to fill up the total number of final individuals, 'fitness_linked' means that their ranking following their fitness value will determine the proportion of their offspring present in the final population, and [instert any other desired strategy here])"
   ]
  },
  {
   "cell_type": "code",
   "execution_count": 145,
   "id": "ca18318f",
   "metadata": {},
   "outputs": [],
   "source": [
    "# Assumes input is a population (i.e. an array of organism arrays), it should crash with a single organism.\n",
    "def grow_pop(in_orgs,out_pop_size,strategy):\n",
    "    num_in_orgs=in_orgs.shape[0]\n",
    "    tot_offspring=np.floor_divide(out_pop_size,num_in_orgs)\n",
    "    corr_pop_size=tot_offspring*num_in_orgs\n",
    "    in_orgs=cp.deepcopy(in_orgs)\n",
    "    print(f\"Making a population out of the {num_in_orgs} organisms given, reproductive strategy is {strategy}.\\nEach organism will have {tot_offspring} offspring.\")\n",
    "    if strategy == 'equals':\n",
    "        orgs_per_org=np.array([tot_offspring])\n",
    "        print(orgs_per_org[0])\n",
    "    elif strategy == 'fitness_linked':\n",
    "        print(\"Some stuff happens\")\n",
    "    else:\n",
    "        print(\"Show error message\")\n",
    "    counter=0\n",
    "    out_pop=np.ndarray((corr_pop_size,),dtype=object)\n",
    "    for k in range(num_in_orgs): # taking each input organism and adding the requested offspring to the output population.\n",
    "        num_offsp=orgs_per_org[k]\n",
    "        for i in range(num_offsp):\n",
    "            indiv=genomeMutatorWrapper(in_orgs,pf.seq_mutation_rate)[0]\n",
    "            out_pop[counter]=indiv\n",
    "            #print(f\"Counter #{counter} has an organism {indiv}\")\n",
    "            counter=counter+1\n",
    "\n",
    "    return(out_pop)"
   ]
  },
  {
   "cell_type": "code",
   "execution_count": 168,
   "id": "0547eaab",
   "metadata": {},
   "outputs": [
    {
     "ename": "NameError",
     "evalue": "name 'out_pop' is not defined",
     "output_type": "error",
     "traceback": [
      "\u001b[0;31m---------------------------------------------------------------------------\u001b[0m",
      "\u001b[0;31mNameError\u001b[0m                                 Traceback (most recent call last)",
      "\u001b[0;32m/tmp/ipykernel_637/2032398329.py\u001b[0m in \u001b[0;36m<module>\u001b[0;34m\u001b[0m\n\u001b[0;32m----> 1\u001b[0;31m \u001b[0mout_pop\u001b[0m\u001b[0;34m\u001b[0m\u001b[0;34m\u001b[0m\u001b[0m\n\u001b[0m",
      "\u001b[0;31mNameError\u001b[0m: name 'out_pop' is not defined"
     ]
    }
   ],
   "source": [
    "out_pop"
   ]
  },
  {
   "cell_type": "code",
   "execution_count": 169,
   "id": "efa44d81",
   "metadata": {},
   "outputs": [],
   "source": [
    "org0=founder_miner(0.75)"
   ]
  },
  {
   "cell_type": "code",
   "execution_count": 170,
   "id": "9212330b",
   "metadata": {},
   "outputs": [
    {
     "name": "stdout",
     "output_type": "stream",
     "text": [
      "Making a population out of the 1 organisms given, reproductive strategy is equals.\n",
      "Each organism will have 1000 offspring.\n",
      "1000\n"
     ]
    },
    {
     "ename": "ValueError",
     "evalue": "'a' cannot be empty unless no samples are taken",
     "output_type": "error",
     "traceback": [
      "\u001b[0;31m---------------------------------------------------------------------------\u001b[0m",
      "\u001b[0;31mValueError\u001b[0m                                Traceback (most recent call last)",
      "\u001b[0;32m/tmp/ipykernel_637/2652794761.py\u001b[0m in \u001b[0;36m<module>\u001b[0;34m\u001b[0m\n\u001b[0;32m----> 1\u001b[0;31m \u001b[0mpop1\u001b[0m\u001b[0;34m=\u001b[0m\u001b[0mgrow_pop\u001b[0m\u001b[0;34m(\u001b[0m\u001b[0morg0\u001b[0m\u001b[0;34m,\u001b[0m\u001b[0;36m1000\u001b[0m\u001b[0;34m,\u001b[0m\u001b[0;34m'equals'\u001b[0m\u001b[0;34m)\u001b[0m\u001b[0;34m\u001b[0m\u001b[0;34m\u001b[0m\u001b[0m\n\u001b[0m",
      "\u001b[0;32m/tmp/ipykernel_637/3603717011.py\u001b[0m in \u001b[0;36mgrow_pop\u001b[0;34m(in_orgs, out_pop_size, strategy)\u001b[0m\n\u001b[1;32m     18\u001b[0m         \u001b[0mnum_offsp\u001b[0m\u001b[0;34m=\u001b[0m\u001b[0morgs_per_org\u001b[0m\u001b[0;34m[\u001b[0m\u001b[0mk\u001b[0m\u001b[0;34m]\u001b[0m\u001b[0;34m\u001b[0m\u001b[0;34m\u001b[0m\u001b[0m\n\u001b[1;32m     19\u001b[0m         \u001b[0;32mfor\u001b[0m \u001b[0mi\u001b[0m \u001b[0;32min\u001b[0m \u001b[0mrange\u001b[0m\u001b[0;34m(\u001b[0m\u001b[0mnum_offsp\u001b[0m\u001b[0;34m)\u001b[0m\u001b[0;34m:\u001b[0m\u001b[0;34m\u001b[0m\u001b[0;34m\u001b[0m\u001b[0m\n\u001b[0;32m---> 20\u001b[0;31m             \u001b[0mindiv\u001b[0m\u001b[0;34m=\u001b[0m\u001b[0mgenomeMutatorWrapper\u001b[0m\u001b[0;34m(\u001b[0m\u001b[0min_orgs\u001b[0m\u001b[0;34m,\u001b[0m\u001b[0mpf\u001b[0m\u001b[0;34m.\u001b[0m\u001b[0mseq_mutation_rate\u001b[0m\u001b[0;34m)\u001b[0m\u001b[0;34m[\u001b[0m\u001b[0;36m0\u001b[0m\u001b[0;34m]\u001b[0m\u001b[0;34m\u001b[0m\u001b[0;34m\u001b[0m\u001b[0m\n\u001b[0m\u001b[1;32m     21\u001b[0m             \u001b[0mout_pop\u001b[0m\u001b[0;34m[\u001b[0m\u001b[0mcounter\u001b[0m\u001b[0;34m]\u001b[0m\u001b[0;34m=\u001b[0m\u001b[0mindiv\u001b[0m\u001b[0;34m\u001b[0m\u001b[0;34m\u001b[0m\u001b[0m\n\u001b[1;32m     22\u001b[0m             \u001b[0;31m#print(f\"Counter #{counter} has an organism {indiv}\")\u001b[0m\u001b[0;34m\u001b[0m\u001b[0;34m\u001b[0m\u001b[0m\n",
      "\u001b[0;32m/tmp/ipykernel_637/1368800196.py\u001b[0m in \u001b[0;36mgenomeMutatorWrapper\u001b[0;34m(orgarr, mut_rateseq)\u001b[0m\n\u001b[1;32m     19\u001b[0m         \u001b[0;31m#print(mut_coords)\u001b[0m\u001b[0;34m\u001b[0m\u001b[0;34m\u001b[0m\u001b[0m\n\u001b[1;32m     20\u001b[0m         \u001b[0mout_genome\u001b[0m\u001b[0;34m,\u001b[0m\u001b[0mout_proteome\u001b[0m\u001b[0;34m,\u001b[0m\u001b[0mmutlocs\u001b[0m\u001b[0;34m=\u001b[0m\u001b[0mmutate_genome\u001b[0m\u001b[0;34m(\u001b[0m\u001b[0min_genome\u001b[0m\u001b[0;34m,\u001b[0m\u001b[0min_proteome\u001b[0m\u001b[0;34m,\u001b[0m\u001b[0mmut_coords\u001b[0m\u001b[0;34m)\u001b[0m\u001b[0;34m\u001b[0m\u001b[0;34m\u001b[0m\u001b[0m\n\u001b[0;32m---> 21\u001b[0;31m         \u001b[0mout_grn\u001b[0m\u001b[0;34m,\u001b[0m\u001b[0mout_thresh\u001b[0m\u001b[0;34m,\u001b[0m\u001b[0mout_decs\u001b[0m\u001b[0;34m=\u001b[0m\u001b[0mregulator_mutator\u001b[0m\u001b[0;34m(\u001b[0m\u001b[0min_grn\u001b[0m\u001b[0;34m,\u001b[0m\u001b[0min_genes_on\u001b[0m\u001b[0;34m,\u001b[0m\u001b[0min_decs\u001b[0m\u001b[0;34m,\u001b[0m\u001b[0min_thresh\u001b[0m\u001b[0;34m,\u001b[0m\u001b[0mmutlocs\u001b[0m\u001b[0;34m)\u001b[0m\u001b[0;34m\u001b[0m\u001b[0;34m\u001b[0m\u001b[0m\n\u001b[0m\u001b[1;32m     22\u001b[0m         \u001b[0mout_dev\u001b[0m\u001b[0;34m=\u001b[0m\u001b[0mdevelop\u001b[0m\u001b[0;34m(\u001b[0m\u001b[0min_start_vect\u001b[0m\u001b[0;34m,\u001b[0m\u001b[0mout_grn\u001b[0m\u001b[0;34m,\u001b[0m\u001b[0mout_decs\u001b[0m\u001b[0;34m,\u001b[0m\u001b[0mout_thresh\u001b[0m\u001b[0;34m,\u001b[0m\u001b[0mpf\u001b[0m\u001b[0;34m.\u001b[0m\u001b[0mdev_steps\u001b[0m\u001b[0;34m)\u001b[0m\u001b[0;34m\u001b[0m\u001b[0;34m\u001b[0m\u001b[0m\n\u001b[1;32m     23\u001b[0m         \u001b[0mout_genes_on\u001b[0m\u001b[0;34m=\u001b[0m\u001b[0;34m(\u001b[0m\u001b[0mout_dev\u001b[0m\u001b[0;34m.\u001b[0m\u001b[0msum\u001b[0m\u001b[0;34m(\u001b[0m\u001b[0maxis\u001b[0m\u001b[0;34m=\u001b[0m\u001b[0;36m0\u001b[0m\u001b[0;34m)\u001b[0m \u001b[0;34m!=\u001b[0m \u001b[0;36m0\u001b[0m\u001b[0;34m)\u001b[0m\u001b[0;34m.\u001b[0m\u001b[0mastype\u001b[0m\u001b[0;34m(\u001b[0m\u001b[0mint\u001b[0m\u001b[0;34m)\u001b[0m\u001b[0;34m\u001b[0m\u001b[0;34m\u001b[0m\u001b[0m\n",
      "\u001b[0;32m/tmp/ipykernel_637/1107033059.py\u001b[0m in \u001b[0;36mregulator_mutator\u001b[0;34m(in_grn, genes_on, in_dec, in_thresh, muttype_vect)\u001b[0m\n\u001b[1;32m     29\u001b[0m                     \u001b[0;31m#print(f\"Mutation {mtype} is NS\")\u001b[0m\u001b[0;34m\u001b[0m\u001b[0;34m\u001b[0m\u001b[0m\n\u001b[1;32m     30\u001b[0m                     \u001b[0;31m#print(f\"range to be used is range({len(actives_in_gene)})\")\u001b[0m\u001b[0;34m\u001b[0m\u001b[0;34m\u001b[0m\u001b[0m\n\u001b[0;32m---> 31\u001b[0;31m                     \u001b[0mrand_idx\u001b[0m\u001b[0;34m=\u001b[0m\u001b[0mnp\u001b[0m\u001b[0;34m.\u001b[0m\u001b[0mrandom\u001b[0m\u001b[0;34m.\u001b[0m\u001b[0mchoice\u001b[0m\u001b[0;34m(\u001b[0m\u001b[0mnp\u001b[0m\u001b[0;34m.\u001b[0m\u001b[0marange\u001b[0m\u001b[0;34m(\u001b[0m\u001b[0mlen\u001b[0m\u001b[0;34m(\u001b[0m\u001b[0mactives_in_gene\u001b[0m\u001b[0;34m)\u001b[0m\u001b[0;34m)\u001b[0m\u001b[0;34m)\u001b[0m \u001b[0;31m# FIXED # get a random index number for mutating a link\u001b[0m\u001b[0;34m\u001b[0m\u001b[0;34m\u001b[0m\u001b[0m\n\u001b[0m\u001b[1;32m     32\u001b[0m                     \u001b[0mcoordinates\u001b[0m\u001b[0;34m=\u001b[0m\u001b[0mtuple\u001b[0m\u001b[0;34m(\u001b[0m\u001b[0mactives_in_gene\u001b[0m\u001b[0;34m[\u001b[0m\u001b[0mrand_idx\u001b[0m\u001b[0;34m,\u001b[0m\u001b[0;34m:\u001b[0m\u001b[0;34m]\u001b[0m\u001b[0;34m)\u001b[0m \u001b[0;31m# get the random link's specific coordinates\u001b[0m\u001b[0;34m\u001b[0m\u001b[0;34m\u001b[0m\u001b[0m\n\u001b[1;32m     33\u001b[0m                     \u001b[0mval\u001b[0m\u001b[0;34m=\u001b[0m\u001b[0min_grn\u001b[0m\u001b[0;34m[\u001b[0m\u001b[0mcoordinates\u001b[0m\u001b[0;34m]\u001b[0m \u001b[0;31m# Extract the value that will be mutated.\u001b[0m\u001b[0;34m\u001b[0m\u001b[0;34m\u001b[0m\u001b[0m\n",
      "\u001b[0;32mmtrand.pyx\u001b[0m in \u001b[0;36mnumpy.random.mtrand.RandomState.choice\u001b[0;34m()\u001b[0m\n",
      "\u001b[0;31mValueError\u001b[0m: 'a' cannot be empty unless no samples are taken"
     ]
    }
   ],
   "source": [
    "pop1=grow_pop(org0,1000,'equals')"
   ]
  },
  {
   "cell_type": "code",
   "execution_count": 166,
   "id": "c585e591",
   "metadata": {},
   "outputs": [],
   "source": [
    "popsel=cp.deepcopy(pop1[range(10)])"
   ]
  },
  {
   "cell_type": "code",
   "execution_count": 167,
   "id": "87c9d572",
   "metadata": {},
   "outputs": [
    {
     "name": "stdout",
     "output_type": "stream",
     "text": [
      "Making a population out of the 10 organisms given, reproductive strategy is equals.\n",
      "Each organism will have 100 offspring.\n",
      "100\n"
     ]
    },
    {
     "ename": "IndexError",
     "evalue": "index 1 is out of bounds for axis 0 with size 1",
     "output_type": "error",
     "traceback": [
      "\u001b[0;31m---------------------------------------------------------------------------\u001b[0m",
      "\u001b[0;31mIndexError\u001b[0m                                Traceback (most recent call last)",
      "\u001b[0;32m/tmp/ipykernel_637/2531403057.py\u001b[0m in \u001b[0;36m<module>\u001b[0;34m\u001b[0m\n\u001b[0;32m----> 1\u001b[0;31m \u001b[0mpop2\u001b[0m\u001b[0;34m=\u001b[0m\u001b[0mgrow_pop\u001b[0m\u001b[0;34m(\u001b[0m\u001b[0mpopsel\u001b[0m\u001b[0;34m,\u001b[0m\u001b[0;36m1000\u001b[0m\u001b[0;34m,\u001b[0m\u001b[0;34m'equals'\u001b[0m\u001b[0;34m)\u001b[0m\u001b[0;34m\u001b[0m\u001b[0;34m\u001b[0m\u001b[0m\n\u001b[0m",
      "\u001b[0;32m/tmp/ipykernel_637/3603717011.py\u001b[0m in \u001b[0;36mgrow_pop\u001b[0;34m(in_orgs, out_pop_size, strategy)\u001b[0m\n\u001b[1;32m     16\u001b[0m     \u001b[0mout_pop\u001b[0m\u001b[0;34m=\u001b[0m\u001b[0mnp\u001b[0m\u001b[0;34m.\u001b[0m\u001b[0mndarray\u001b[0m\u001b[0;34m(\u001b[0m\u001b[0;34m(\u001b[0m\u001b[0mcorr_pop_size\u001b[0m\u001b[0;34m,\u001b[0m\u001b[0;34m)\u001b[0m\u001b[0;34m,\u001b[0m\u001b[0mdtype\u001b[0m\u001b[0;34m=\u001b[0m\u001b[0mobject\u001b[0m\u001b[0;34m)\u001b[0m\u001b[0;34m\u001b[0m\u001b[0;34m\u001b[0m\u001b[0m\n\u001b[1;32m     17\u001b[0m     \u001b[0;32mfor\u001b[0m \u001b[0mk\u001b[0m \u001b[0;32min\u001b[0m \u001b[0mrange\u001b[0m\u001b[0;34m(\u001b[0m\u001b[0mnum_in_orgs\u001b[0m\u001b[0;34m)\u001b[0m\u001b[0;34m:\u001b[0m \u001b[0;31m# taking each input organism and adding the requested offspring to the output population.\u001b[0m\u001b[0;34m\u001b[0m\u001b[0;34m\u001b[0m\u001b[0m\n\u001b[0;32m---> 18\u001b[0;31m         \u001b[0mnum_offsp\u001b[0m\u001b[0;34m=\u001b[0m\u001b[0morgs_per_org\u001b[0m\u001b[0;34m[\u001b[0m\u001b[0mk\u001b[0m\u001b[0;34m]\u001b[0m\u001b[0;34m\u001b[0m\u001b[0;34m\u001b[0m\u001b[0m\n\u001b[0m\u001b[1;32m     19\u001b[0m         \u001b[0;32mfor\u001b[0m \u001b[0mi\u001b[0m \u001b[0;32min\u001b[0m \u001b[0mrange\u001b[0m\u001b[0;34m(\u001b[0m\u001b[0mnum_offsp\u001b[0m\u001b[0;34m)\u001b[0m\u001b[0;34m:\u001b[0m\u001b[0;34m\u001b[0m\u001b[0;34m\u001b[0m\u001b[0m\n\u001b[1;32m     20\u001b[0m             \u001b[0mindiv\u001b[0m\u001b[0;34m=\u001b[0m\u001b[0mgenomeMutatorWrapper\u001b[0m\u001b[0;34m(\u001b[0m\u001b[0min_orgs\u001b[0m\u001b[0;34m,\u001b[0m\u001b[0mpf\u001b[0m\u001b[0;34m.\u001b[0m\u001b[0mseq_mutation_rate\u001b[0m\u001b[0;34m)\u001b[0m\u001b[0;34m[\u001b[0m\u001b[0;36m0\u001b[0m\u001b[0;34m]\u001b[0m\u001b[0;34m\u001b[0m\u001b[0;34m\u001b[0m\u001b[0m\n",
      "\u001b[0;31mIndexError\u001b[0m: index 1 is out of bounds for axis 0 with size 1"
     ]
    }
   ],
   "source": [
    "pop2=grow_pop(popsel,1000,'equals')"
   ]
  },
  {
   "cell_type": "code",
   "execution_count": 101,
   "id": "3fa03c65",
   "metadata": {},
   "outputs": [
    {
     "data": {
      "text/plain": [
       "False"
      ]
     },
     "execution_count": 101,
     "metadata": {},
     "output_type": "execute_result"
    }
   ],
   "source": [
    "np.all(F1[0][1] == F1[5][1])"
   ]
  },
  {
   "cell_type": "markdown",
   "id": "c15ee871",
   "metadata": {},
   "source": [
    "### Helper functions: doing multi-core analyses...\n",
    "These functions are from a course I did with the ACRC at the UoB, on parallelizing python. They're meant to prove a point and show an example, not blow anyone's mind."
   ]
  },
  {
   "cell_type": "code",
   "execution_count": 185,
   "id": "e9f72b35",
   "metadata": {},
   "outputs": [],
   "source": [
    "def slow_add(nsecs, x, y):\n",
    "    print(f\"Process {os.getpid()} going to sleep for {nsecs} second(s)\")\n",
    "    time.sleep(nsecs)\n",
    "    \n",
    "    print(f\"Process {os.getpid()} waking up\")\n",
    "    return(x+y)"
   ]
  },
  {
   "cell_type": "code",
   "execution_count": 186,
   "id": "212d15f4",
   "metadata": {},
   "outputs": [
    {
     "data": {
      "text/plain": [
       "array([0, 1, 2, 3, 4, 5, 6, 7])"
      ]
     },
     "execution_count": 186,
     "metadata": {},
     "output_type": "execute_result"
    }
   ],
   "source": [
    "intime=np.array([3,3,3,3,3,3,3,3])\n",
    "infirst=np.array([8,7,6,5,4,3,2,1])\n",
    "inlist=np.arange(8)\n",
    "inlist"
   ]
  },
  {
   "cell_type": "code",
   "execution_count": 188,
   "id": "83dafb9b",
   "metadata": {},
   "outputs": [
    {
     "name": "stdout",
     "output_type": "stream",
     "text": [
      "Process 283 going to sleep for 3 second(s)\n",
      "Process 286 going to sleep for 3 second(s)\n",
      "Process 293 going to sleep for 3 second(s)\n",
      "Process 296 going to sleep for 3 second(s)\n",
      "Process 279 going to sleep for 3 second(s)\n",
      "Process 304 going to sleep for 3 second(s)\n",
      "Process 312 going to sleep for 3 second(s)Process 311 going to sleep for 3 second(s)\n",
      "\n",
      "Process 283 waking up\n",
      "Process 286 waking up\n",
      "Process 293 waking up\n",
      "Process 296 waking upProcess 279 waking up\n",
      "\n",
      "Process 304 waking up\n",
      "Process 311 waking upProcess 312 waking up\n",
      "\n"
     ]
    },
    {
     "data": {
      "text/plain": [
       "array([8, 8, 8, 8, 8, 8, 8, 8])"
      ]
     },
     "execution_count": 188,
     "metadata": {},
     "output_type": "execute_result"
    }
   ],
   "source": [
    "if __name__ == \"__main__\":\n",
    "    with ProcessPoolExecutor() as pool:\n",
    "        result = pool.map(slow_add, intime,infirst,inlist)\n",
    "\n",
    "np.array(list(result))"
   ]
  },
  {
   "cell_type": "markdown",
   "id": "e21ea7aa",
   "metadata": {},
   "source": [
    "# Testing Ground"
   ]
  },
  {
   "cell_type": "code",
   "execution_count": 134,
   "id": "1931bfd1",
   "metadata": {},
   "outputs": [],
   "source": [
    "org_arr=np.array([founder_miner(0.7)])"
   ]
  },
  {
   "cell_type": "code",
   "execution_count": 34,
   "id": "5ff83e03",
   "metadata": {},
   "outputs": [
    {
     "data": {
      "text/plain": [
       "(1, 10)"
      ]
     },
     "execution_count": 34,
     "metadata": {},
     "output_type": "execute_result"
    }
   ],
   "source": [
    "org_arr.shape"
   ]
  },
  {
   "cell_type": "markdown",
   "id": "328e238e",
   "metadata": {},
   "source": [
    "# CHECKPOINT:\n",
    "### Make the following steps into a function that produces a population\n",
    "Switched the genomeMutationWrapper() to take in an organism array with fields organized as stated in the \"data_fields\" array, and now, in order to access the same field for all organisms in the population, it suffices to do:\n",
    "**[ x[9] for x in F1_pop_array[:] ]**, where '9' is the field you want access to, in this case, the fitness value, and 'F1_pop_array' is the population array."
   ]
  },
  {
   "cell_type": "code",
   "execution_count": 25,
   "id": "a38f2333",
   "metadata": {},
   "outputs": [],
   "source": [
    "pop_size=1000\n",
    "num_genes=pf.num_genes\n",
    "num_codons=np.floor_divide(pf.seq_length,3)\n",
    "F1_pop_array=np.ndarray((pop_size,10),dtype=object)"
   ]
  },
  {
   "cell_type": "code",
   "execution_count": 26,
   "id": "fae6a383",
   "metadata": {},
   "outputs": [
    {
     "data": {
      "text/plain": [
       "(1000, 10)"
      ]
     },
     "execution_count": 26,
     "metadata": {},
     "output_type": "execute_result"
    }
   ],
   "source": [
    "F1_pop_array.shape"
   ]
  },
  {
   "cell_type": "code",
   "execution_count": 135,
   "id": "38a0446d",
   "metadata": {},
   "outputs": [
    {
     "name": "stdout",
     "output_type": "stream",
     "text": [
      "Currently spawning number 0\n"
     ]
    },
    {
     "ename": "IndexError",
     "evalue": "index 1 is out of bounds for axis 0 with size 1",
     "output_type": "error",
     "traceback": [
      "\u001b[0;31m---------------------------------------------------------------------------\u001b[0m",
      "\u001b[0;31mIndexError\u001b[0m                                Traceback (most recent call last)",
      "\u001b[0;32m/tmp/ipykernel_637/1244727357.py\u001b[0m in \u001b[0;36m<module>\u001b[0;34m\u001b[0m\n\u001b[1;32m      2\u001b[0m \u001b[0;32mfor\u001b[0m \u001b[0mi\u001b[0m \u001b[0;32min\u001b[0m \u001b[0mnp\u001b[0m\u001b[0;34m.\u001b[0m\u001b[0marange\u001b[0m\u001b[0;34m(\u001b[0m\u001b[0mpop_size\u001b[0m\u001b[0;34m)\u001b[0m\u001b[0;34m:\u001b[0m\u001b[0;34m\u001b[0m\u001b[0;34m\u001b[0m\u001b[0m\n\u001b[1;32m      3\u001b[0m     \u001b[0mprint\u001b[0m\u001b[0;34m(\u001b[0m\u001b[0;34mf\"Currently spawning number {i}\"\u001b[0m\u001b[0;34m)\u001b[0m\u001b[0;34m\u001b[0m\u001b[0;34m\u001b[0m\u001b[0m\n\u001b[0;32m----> 4\u001b[0;31m     \u001b[0mF1_pop_array\u001b[0m\u001b[0;34m[\u001b[0m\u001b[0mi\u001b[0m\u001b[0;34m]\u001b[0m\u001b[0;34m=\u001b[0m\u001b[0mgenomeMutatorWrapper\u001b[0m\u001b[0;34m(\u001b[0m\u001b[0mcp\u001b[0m\u001b[0;34m.\u001b[0m\u001b[0mdeepcopy\u001b[0m\u001b[0;34m(\u001b[0m\u001b[0morg_arr\u001b[0m\u001b[0;34m)\u001b[0m\u001b[0;34m,\u001b[0m\u001b[0;36m0.00001\u001b[0m\u001b[0;34m)\u001b[0m\u001b[0;34m\u001b[0m\u001b[0;34m\u001b[0m\u001b[0m\n\u001b[0m\u001b[1;32m      5\u001b[0m \u001b[0mprint\u001b[0m\u001b[0;34m(\u001b[0m\u001b[0;34mf\"Time used for producing 1K individuals was {time.time() - start_time} seconds.\"\u001b[0m\u001b[0;34m)\u001b[0m\u001b[0;34m\u001b[0m\u001b[0;34m\u001b[0m\u001b[0m\n",
      "\u001b[0;32m/tmp/ipykernel_637/56705623.py\u001b[0m in \u001b[0;36mgenomeMutatorWrapper\u001b[0;34m(orgarr, mut_rateseq)\u001b[0m\n\u001b[1;32m      3\u001b[0m     \u001b[0morgarr\u001b[0m\u001b[0;34m=\u001b[0m\u001b[0mcp\u001b[0m\u001b[0;34m.\u001b[0m\u001b[0mdeepcopy\u001b[0m\u001b[0;34m(\u001b[0m\u001b[0morgarr\u001b[0m\u001b[0;34m[\u001b[0m\u001b[0;36m0\u001b[0m\u001b[0;34m]\u001b[0m\u001b[0;34m)\u001b[0m\u001b[0;34m\u001b[0m\u001b[0;34m\u001b[0m\u001b[0m\n\u001b[1;32m      4\u001b[0m     \u001b[0min_gen_num\u001b[0m\u001b[0;34m=\u001b[0m\u001b[0morgarr\u001b[0m\u001b[0;34m[\u001b[0m\u001b[0;36m0\u001b[0m\u001b[0;34m]\u001b[0m\u001b[0;34m\u001b[0m\u001b[0;34m\u001b[0m\u001b[0m\n\u001b[0;32m----> 5\u001b[0;31m     \u001b[0min_genome\u001b[0m\u001b[0;34m=\u001b[0m\u001b[0morgarr\u001b[0m\u001b[0;34m[\u001b[0m\u001b[0;36m1\u001b[0m\u001b[0;34m]\u001b[0m\u001b[0;34m\u001b[0m\u001b[0;34m\u001b[0m\u001b[0m\n\u001b[0m\u001b[1;32m      6\u001b[0m     \u001b[0min_proteome\u001b[0m\u001b[0;34m=\u001b[0m\u001b[0morgarr\u001b[0m\u001b[0;34m[\u001b[0m\u001b[0;36m2\u001b[0m\u001b[0;34m]\u001b[0m\u001b[0;34m\u001b[0m\u001b[0;34m\u001b[0m\u001b[0m\n\u001b[1;32m      7\u001b[0m     \u001b[0min_grn\u001b[0m\u001b[0;34m=\u001b[0m\u001b[0morgarr\u001b[0m\u001b[0;34m[\u001b[0m\u001b[0;36m3\u001b[0m\u001b[0;34m]\u001b[0m\u001b[0;34m\u001b[0m\u001b[0;34m\u001b[0m\u001b[0m\n",
      "\u001b[0;31mIndexError\u001b[0m: index 1 is out of bounds for axis 0 with size 1"
     ]
    }
   ],
   "source": [
    "start_time=time.time()\n",
    "for i in np.arange(pop_size):\n",
    "    print(f\"Currently spawning number {i}\")\n",
    "    F1_pop_array[i]=genomeMutatorWrapper(cp.deepcopy(org_arr),0.00001)\n",
    "print(f\"Time used for producing 1K individuals was {time.time() - start_time} seconds.\")"
   ]
  },
  {
   "cell_type": "code",
   "execution_count": 68,
   "id": "b912bede",
   "metadata": {},
   "outputs": [
    {
     "data": {
      "text/plain": [
       "array([0.        , 0.        , 0.51630709, 0.6505516 , 0.67754043,\n",
       "       0.68209205, 0.71489295, 0.71492784, 0.71495163, 0.71502598,\n",
       "       0.71504933, 0.71521433, 0.71521804, 0.71526611, 0.71529177,\n",
       "       0.71530806, 0.71533142, 0.71540009, 0.71540284, 0.71541442,\n",
       "       0.71542924, 0.71545285, 0.7154628 , 0.71546407, 0.71546633,\n",
       "       0.71548837, 0.7154944 , 0.71550001, 0.71550254, 0.7155066 ,\n",
       "       0.71550683, 0.71550853, 0.71550939, 0.71551017, 0.7155107 ,\n",
       "       0.71551104, 0.71551109, 0.71551119, 0.71551121, 0.71551121,\n",
       "       0.71551121, 0.71551121, 0.71551121, 0.71551121, 0.71551121,\n",
       "       0.71551121, 0.71551121, 0.71551121, 0.71551121, 0.71551121,\n",
       "       0.71551121, 0.71551121, 0.71551121, 0.71551121, 0.71551121,\n",
       "       0.71551121, 0.71551121, 0.71551121, 0.71551121, 0.71551121,\n",
       "       0.71551121, 0.71551121, 0.71551121, 0.71551121, 0.71551121,\n",
       "       0.71551121, 0.71551121, 0.71551121, 0.71551121, 0.71551121,\n",
       "       0.71551121, 0.71551121, 0.71551121, 0.71551121, 0.71551121,\n",
       "       0.71551121, 0.71551121, 0.71551121, 0.71551121, 0.71551121,\n",
       "       0.71551121, 0.71551121, 0.71551121, 0.71551121, 0.71551121,\n",
       "       0.71551121, 0.71551121, 0.71551121, 0.71551121, 0.71551121,\n",
       "       0.71551121, 0.71551121, 0.71551121, 0.71551121, 0.71551121,\n",
       "       0.71551121, 0.71551121, 0.71551121, 0.71551121, 0.71551121,\n",
       "       0.71551121, 0.71551121, 0.71551121, 0.71551121, 0.71551121,\n",
       "       0.71551121, 0.71551121, 0.71551121, 0.71551121, 0.71551121,\n",
       "       0.71551121, 0.71551121, 0.71551121, 0.71551121, 0.71551121,\n",
       "       0.71551121, 0.71551121, 0.71551121, 0.71551121, 0.71551121,\n",
       "       0.71551121, 0.71551121, 0.71551121, 0.71551121, 0.71551121,\n",
       "       0.71551121, 0.71551121, 0.71551121, 0.71551121, 0.71551121,\n",
       "       0.71551121, 0.71551121, 0.71551121, 0.71551121, 0.71551121,\n",
       "       0.71551121, 0.71551121, 0.71551121, 0.71551121, 0.71551121,\n",
       "       0.71551121, 0.71551121, 0.71551121, 0.71551121, 0.71551121,\n",
       "       0.71551121, 0.71551121, 0.71551121, 0.71551121, 0.71551121,\n",
       "       0.71551121, 0.71551121, 0.71551121, 0.71551121, 0.71551121,\n",
       "       0.71551121, 0.71551121, 0.71551121, 0.71551121, 0.71551121,\n",
       "       0.71551121, 0.71551121, 0.71551121, 0.71551121, 0.71551121,\n",
       "       0.71551121, 0.71551121, 0.71551121, 0.71551121, 0.71551121,\n",
       "       0.71551121, 0.71551121, 0.71551121, 0.71551121, 0.71551121,\n",
       "       0.71551121, 0.71551121, 0.71551121, 0.71551121, 0.71551121,\n",
       "       0.71551121, 0.71551121, 0.71551121, 0.71551121, 0.71551121,\n",
       "       0.71551121, 0.71551121, 0.71551121, 0.71551121, 0.71551121,\n",
       "       0.71551121, 0.71551121, 0.71551121, 0.71551121, 0.71551121,\n",
       "       0.71551121, 0.71551121, 0.71551121, 0.71551121, 0.71551121,\n",
       "       0.71551121, 0.71551121, 0.71551121, 0.71551121, 0.71551121,\n",
       "       0.71551121, 0.71551121, 0.71551121, 0.71551121, 0.71551121,\n",
       "       0.71551121, 0.71551121, 0.71551121, 0.71551121, 0.71551121,\n",
       "       0.71551121, 0.71551121, 0.71551121, 0.71551121, 0.71551121,\n",
       "       0.71551121, 0.71551121, 0.71551121, 0.71551121, 0.71551121,\n",
       "       0.71551121, 0.71551121, 0.71551121, 0.71551121, 0.71551121,\n",
       "       0.71551121, 0.71551121, 0.71551121, 0.71551121, 0.71551121,\n",
       "       0.71551121, 0.71551121, 0.71551121, 0.71551121, 0.71551121,\n",
       "       0.71551121, 0.71551121, 0.71551121, 0.71551121, 0.71551121,\n",
       "       0.71551121, 0.71551121, 0.71551121, 0.71551121, 0.71551121,\n",
       "       0.71551121, 0.71551121, 0.71551121, 0.71551121, 0.71551121,\n",
       "       0.71551121, 0.71551121, 0.71551121, 0.71551121, 0.71551121,\n",
       "       0.71551121, 0.71551121, 0.71551121, 0.71551121, 0.71551121,\n",
       "       0.71551121, 0.71551121, 0.71551121, 0.71551121, 0.71551121,\n",
       "       0.71551121, 0.71551121, 0.71551121, 0.71551121, 0.71551121,\n",
       "       0.71551121, 0.71551121, 0.71551121, 0.71551121, 0.71551121,\n",
       "       0.71551121, 0.71551121, 0.71551121, 0.71551121, 0.71551121,\n",
       "       0.71551121, 0.71551121, 0.71551121, 0.71551121, 0.71551121,\n",
       "       0.71551121, 0.71551121, 0.71551121, 0.71551121, 0.71551121,\n",
       "       0.71551121, 0.71551121, 0.71551121, 0.71551121, 0.71551121,\n",
       "       0.71551121, 0.71551121, 0.71551121, 0.71551121, 0.71551121,\n",
       "       0.71551121, 0.71551121, 0.71551121, 0.71551121, 0.71551121,\n",
       "       0.71551121, 0.71551121, 0.71551121, 0.71551121, 0.71551121,\n",
       "       0.71551121, 0.71551121, 0.71551121, 0.71551121, 0.71551121,\n",
       "       0.71551121, 0.71551121, 0.71551121, 0.71551121, 0.71551121,\n",
       "       0.71551121, 0.71551121, 0.71551121, 0.71551121, 0.71551121,\n",
       "       0.71551121, 0.71551121, 0.71551121, 0.71551121, 0.71551121,\n",
       "       0.71551121, 0.71551121, 0.71551121, 0.71551121, 0.71551121,\n",
       "       0.71551121, 0.71551121, 0.71551121, 0.71551121, 0.71551121,\n",
       "       0.71551121, 0.71551121, 0.71551121, 0.71551121, 0.71551121,\n",
       "       0.71551121, 0.71551121, 0.71551121, 0.71551121, 0.71551121,\n",
       "       0.71551121, 0.71551121, 0.71551121, 0.71551121, 0.71551121,\n",
       "       0.71551121, 0.71551121, 0.71551121, 0.71551121, 0.71551121,\n",
       "       0.71551121, 0.71551121, 0.71551121, 0.71551121, 0.71551121,\n",
       "       0.71551121, 0.71551121, 0.71551121, 0.71551121, 0.71551121,\n",
       "       0.71551121, 0.71551121, 0.71551121, 0.71551121, 0.71551121,\n",
       "       0.71551121, 0.71551121, 0.71551121, 0.71551121, 0.71551121,\n",
       "       0.71551121, 0.71551121, 0.71551121, 0.71551121, 0.71551121,\n",
       "       0.71551121, 0.71551121, 0.71551121, 0.71551121, 0.71551121,\n",
       "       0.71551121, 0.71551121, 0.71551121, 0.71551121, 0.71551121,\n",
       "       0.71551121, 0.71551121, 0.71551121, 0.71551121, 0.71551121,\n",
       "       0.71551121, 0.71551121, 0.71551121, 0.71551121, 0.71551121,\n",
       "       0.71551121, 0.71551121, 0.71551121, 0.71551121, 0.71551121,\n",
       "       0.71551121, 0.71551121, 0.71551121, 0.71551121, 0.71551121,\n",
       "       0.71551121, 0.71551121, 0.71551121, 0.71551121, 0.71551121,\n",
       "       0.71551121, 0.71551121, 0.71551121, 0.71551121, 0.71551121,\n",
       "       0.71551121, 0.71551121, 0.71551121, 0.71551121, 0.71551121,\n",
       "       0.71551121, 0.71551121, 0.71551121, 0.71551121, 0.71551121,\n",
       "       0.71551121, 0.71551121, 0.71551121, 0.71551121, 0.71551121,\n",
       "       0.71551121, 0.71551121, 0.71551121, 0.71551121, 0.71551121,\n",
       "       0.71551121, 0.71551121, 0.71551121, 0.71551121, 0.71551121,\n",
       "       0.71551121, 0.71551121, 0.71551121, 0.71551121, 0.71551121,\n",
       "       0.71551121, 0.71551121, 0.71551121, 0.71551121, 0.71551121,\n",
       "       0.71551121, 0.71551121, 0.71551121, 0.71551121, 0.71551121,\n",
       "       0.71551121, 0.71551121, 0.71551121, 0.71551121, 0.71551121,\n",
       "       0.71551121, 0.71551121, 0.71551121, 0.71551121, 0.71551121,\n",
       "       0.71551121, 0.71551121, 0.71551121, 0.71551121, 0.71551121,\n",
       "       0.71551121, 0.71551121, 0.71551121, 0.71551121, 0.71551121,\n",
       "       0.71551121, 0.71551121, 0.71551121, 0.71551121, 0.71551121,\n",
       "       0.71551121, 0.71551121, 0.71551121, 0.71551121, 0.71551121,\n",
       "       0.71551121, 0.71551121, 0.71551121, 0.71551121, 0.71551121,\n",
       "       0.71551121, 0.71551121, 0.71551121, 0.71551121, 0.71551121,\n",
       "       0.71551121, 0.71551121, 0.71551121, 0.71551121, 0.71551121,\n",
       "       0.71551121, 0.71551121, 0.71551121, 0.71551121, 0.71551121,\n",
       "       0.71551121, 0.71551121, 0.71551121, 0.71551121, 0.71551121,\n",
       "       0.71551121, 0.71551121, 0.71551121, 0.71551121, 0.71551121,\n",
       "       0.71551121, 0.71551121, 0.71551121, 0.71551121, 0.71551121,\n",
       "       0.71551121, 0.71551121, 0.71551121, 0.71551121, 0.71551121,\n",
       "       0.71551121, 0.71551121, 0.71551121, 0.71551121, 0.71551121,\n",
       "       0.71551121, 0.71551121, 0.71551121, 0.71551121, 0.71551121,\n",
       "       0.71551121, 0.71551121, 0.71551121, 0.71551121, 0.71551121,\n",
       "       0.71551121, 0.71551121, 0.71551121, 0.71551121, 0.71551121,\n",
       "       0.71551121, 0.71551121, 0.71551121, 0.71551121, 0.71551121,\n",
       "       0.71551121, 0.71551121, 0.71551121, 0.71551121, 0.71551121,\n",
       "       0.71551121, 0.71551121, 0.71551121, 0.71551121, 0.71551121,\n",
       "       0.71551121, 0.71551121, 0.71551121, 0.71551121, 0.71551121,\n",
       "       0.71551121, 0.71551121, 0.71551121, 0.71551121, 0.71551121,\n",
       "       0.71551121, 0.71551121, 0.71551121, 0.71551121, 0.71551121,\n",
       "       0.71551121, 0.71551121, 0.71551121, 0.71551121, 0.71551121,\n",
       "       0.71551121, 0.71551121, 0.71551121, 0.71551121, 0.71551121,\n",
       "       0.71551121, 0.71551121, 0.71551121, 0.71551121, 0.71551121,\n",
       "       0.71551121, 0.71551121, 0.71551121, 0.71551121, 0.71551121,\n",
       "       0.71551121, 0.71551121, 0.71551121, 0.71551121, 0.71551121,\n",
       "       0.71551121, 0.71551121, 0.71551121, 0.71551121, 0.71551121,\n",
       "       0.71551121, 0.71551121, 0.71551121, 0.71551121, 0.71551121,\n",
       "       0.71551121, 0.71551121, 0.71551121, 0.71551121, 0.71551121,\n",
       "       0.71551121, 0.71551121, 0.71551121, 0.71551121, 0.71551121,\n",
       "       0.71551121, 0.71551121, 0.71551121, 0.71551121, 0.71551121,\n",
       "       0.71551121, 0.71551121, 0.71551121, 0.71551121, 0.71551121,\n",
       "       0.71551121, 0.71551121, 0.71551121, 0.71551121, 0.71551121,\n",
       "       0.71551121, 0.71551121, 0.71551121, 0.71551121, 0.71551121,\n",
       "       0.71551121, 0.71551121, 0.71551121, 0.71551121, 0.71551121,\n",
       "       0.71551121, 0.71551121, 0.71551121, 0.71551121, 0.71551121,\n",
       "       0.71551121, 0.71551121, 0.71551121, 0.71551121, 0.71551121,\n",
       "       0.71551121, 0.71551121, 0.71551121, 0.71551121, 0.71551121,\n",
       "       0.71551121, 0.71551121, 0.71551121, 0.71551121, 0.71551121,\n",
       "       0.71551121, 0.71551121, 0.71551121, 0.71551121, 0.71551121,\n",
       "       0.71551121, 0.71551121, 0.71551121, 0.71551121, 0.71551121,\n",
       "       0.71551121, 0.71551121, 0.71551121, 0.71551121, 0.71551121,\n",
       "       0.71551121, 0.71551121, 0.71551121, 0.71551121, 0.71551121,\n",
       "       0.71551121, 0.71551121, 0.71551121, 0.71551121, 0.71551121,\n",
       "       0.71551121, 0.71551121, 0.71551121, 0.71551121, 0.71551121,\n",
       "       0.71551121, 0.71551121, 0.71551121, 0.71551121, 0.71551121,\n",
       "       0.71551121, 0.71551121, 0.71551121, 0.71551121, 0.71551121,\n",
       "       0.71551121, 0.71551121, 0.71551121, 0.71551121, 0.71551121,\n",
       "       0.71551121, 0.71551121, 0.71551121, 0.71551121, 0.71551121,\n",
       "       0.71551121, 0.71551121, 0.71551121, 0.71551121, 0.71551121,\n",
       "       0.71551121, 0.71551121, 0.71551121, 0.71551121, 0.71551121,\n",
       "       0.71551121, 0.71551121, 0.71551121, 0.71551121, 0.71551121,\n",
       "       0.71551121, 0.71551121, 0.71551121, 0.71551121, 0.71551121,\n",
       "       0.71551121, 0.71551121, 0.71551121, 0.71551121, 0.71551121,\n",
       "       0.71551121, 0.71551121, 0.71551121, 0.71551121, 0.71551121,\n",
       "       0.71551121, 0.71551121, 0.71551121, 0.71551121, 0.71551121,\n",
       "       0.71551121, 0.71551121, 0.71551121, 0.71551121, 0.71551121,\n",
       "       0.71551121, 0.71551121, 0.71551121, 0.71551121, 0.71551121,\n",
       "       0.71551121, 0.71551121, 0.71551121, 0.71551121, 0.71551121,\n",
       "       0.71551121, 0.71551121, 0.71551121, 0.71551121, 0.71551121,\n",
       "       0.71551121, 0.71551121, 0.71551121, 0.71551121, 0.71551121,\n",
       "       0.71551121, 0.71551121, 0.71551121, 0.71551121, 0.71551121,\n",
       "       0.71551121, 0.71551121, 0.71551121, 0.71551121, 0.71551121,\n",
       "       0.71551121, 0.71551121, 0.71551121, 0.71551121, 0.71551121,\n",
       "       0.71551121, 0.71551121, 0.71551121, 0.71551121, 0.71551121,\n",
       "       0.71551121, 0.71551121, 0.71551121, 0.71551121, 0.71551121,\n",
       "       0.71551121, 0.71551121, 0.71551121, 0.71551121, 0.71551121,\n",
       "       0.71551121, 0.71551121, 0.71551121, 0.71551121, 0.71551121,\n",
       "       0.71551121, 0.71551121, 0.71551121, 0.71551121, 0.71551121,\n",
       "       0.71551121, 0.71551121, 0.71551121, 0.71551121, 0.71551121,\n",
       "       0.71551121, 0.71551121, 0.71551121, 0.71551121, 0.71551121,\n",
       "       0.71551121, 0.71551121, 0.71551121, 0.71551121, 0.71551121,\n",
       "       0.71551121, 0.71551121, 0.71551121, 0.71551121, 0.71551121,\n",
       "       0.71551121, 0.71551121, 0.71551121, 0.71551121, 0.71551121,\n",
       "       0.71551121, 0.71551121, 0.71551121, 0.71551121, 0.71551121,\n",
       "       0.71551121, 0.71551121, 0.71551121, 0.71551121, 0.71551121,\n",
       "       0.71551121, 0.71551121, 0.71551121, 0.71551121, 0.71551121,\n",
       "       0.71551121, 0.71551121, 0.71551121, 0.71551121, 0.71551121,\n",
       "       0.71551121, 0.71551121, 0.71551121, 0.71551121, 0.71551121,\n",
       "       0.71551121, 0.71551121, 0.71551121, 0.71551121, 0.71551121,\n",
       "       0.71551121, 0.71551121, 0.71551121, 0.71551121, 0.71551121,\n",
       "       0.71551121, 0.71551121, 0.71551121, 0.71551121, 0.71551121,\n",
       "       0.71551121, 0.71551121, 0.71551121, 0.71551121, 0.71551121,\n",
       "       0.71551121, 0.71551121, 0.71551121, 0.71551121, 0.71551121,\n",
       "       0.71551121, 0.71551121, 0.71551121, 0.71551121, 0.71551121,\n",
       "       0.71551121, 0.71551121, 0.71551121, 0.71551121, 0.71551121,\n",
       "       0.71551121, 0.71551121, 0.71551121, 0.71551121, 0.71551121,\n",
       "       0.71551121, 0.71551121, 0.71551121, 0.71551121, 0.71551121,\n",
       "       0.71551121, 0.71551121, 0.71551121, 0.71551121, 0.71551121,\n",
       "       0.71551121, 0.71551121, 0.71551121, 0.71551121, 0.71551121,\n",
       "       0.71551121, 0.71551121, 0.71551121, 0.71551121, 0.71551121,\n",
       "       0.71551121, 0.71551121, 0.71551121, 0.71551121, 0.71551121,\n",
       "       0.71551121, 0.71551121, 0.71551121, 0.71551121, 0.71551121,\n",
       "       0.71551121, 0.71551121, 0.71551121, 0.71551121, 0.71551121,\n",
       "       0.71551121, 0.71551121, 0.71551121, 0.71551122, 0.71551122,\n",
       "       0.71551123, 0.71551129, 0.7155113 , 0.71551144, 0.71551148,\n",
       "       0.71551167, 0.71551296, 0.71551352, 0.71551364, 0.71551402,\n",
       "       0.71551634, 0.71551733, 0.71551742, 0.71552234, 0.7155224 ,\n",
       "       0.71552264, 0.71552397, 0.71552449, 0.71552751, 0.71554254,\n",
       "       0.71554796, 0.71554946, 0.71555575, 0.71555696, 0.71556336,\n",
       "       0.71556833, 0.71560895, 0.71561993, 0.71562742, 0.71564143,\n",
       "       0.71565306, 0.71566846, 0.71567768, 0.71569084, 0.71577843,\n",
       "       0.71600855, 0.71604561, 0.71609391, 0.74868954, 0.74884849])"
      ]
     },
     "execution_count": 68,
     "metadata": {},
     "output_type": "execute_result"
    }
   ],
   "source": [
    "np.sort(np.array([ x[9] for x in F1_pop_array[:] ]))"
   ]
  },
  {
   "cell_type": "code",
   "execution_count": 120,
   "id": "fce31598",
   "metadata": {},
   "outputs": [
    {
     "data": {
      "text/plain": [
       "(100, 10, 333)"
      ]
     },
     "execution_count": 120,
     "metadata": {},
     "output_type": "execute_result"
    }
   ],
   "source": [
    "outarr.shape"
   ]
  },
  {
   "cell_type": "code",
   "execution_count": 128,
   "id": "2e57bc2d",
   "metadata": {},
   "outputs": [],
   "source": [
    "F1_pop_genome=outarr"
   ]
  },
  {
   "cell_type": "code",
   "execution_count": null,
   "id": "612d048f",
   "metadata": {},
   "outputs": [],
   "source": []
  },
  {
   "cell_type": "code",
   "execution_count": null,
   "id": "995e3928",
   "metadata": {},
   "outputs": [],
   "source": []
  },
  {
   "cell_type": "code",
   "execution_count": null,
   "id": "f81f31a6",
   "metadata": {},
   "outputs": [],
   "source": []
  },
  {
   "cell_type": "markdown",
   "id": "22f35ae0",
   "metadata": {},
   "source": [
    "#### Thresholds and decays _before_ mutation"
   ]
  },
  {
   "cell_type": "code",
   "execution_count": 51,
   "id": "270698a1",
   "metadata": {},
   "outputs": [
    {
     "name": "stdout",
     "output_type": "stream",
     "text": [
      "Old thresholds are:\n",
      "[0.00000000e+00 1.21633178e+00 9.55697815e-03 0.00000000e+00\n",
      " 2.28582161e-04 6.20393046e-01 1.28873940e-04 3.22561692e-01\n",
      " 0.00000000e+00 0.00000000e+00]\n",
      " Old decays are:\n",
      "[0.98946285 1.07377454 0.69599319 0.4982124  1.95308117 1.58926341\n",
      " 1.89817429 1.22058099 0.25832542 0.6748252 ]\n"
     ]
    }
   ],
   "source": [
    "print(f\"Old thresholds are:\\n{founder.thresholds}\\n Old decays are:\\n{founder.decays}\")"
   ]
  },
  {
   "cell_type": "code",
   "execution_count": 214,
   "id": "4a15b943",
   "metadata": {},
   "outputs": [
    {
     "data": {
      "text/plain": [
       "-0.00011550790990487794"
      ]
     },
     "execution_count": 214,
     "metadata": {},
     "output_type": "execute_result"
    }
   ],
   "source": [
    "weight_mut(a_tupe[0][4])"
   ]
  },
  {
   "cell_type": "code",
   "execution_count": 182,
   "id": "3cdbe767",
   "metadata": {},
   "outputs": [
    {
     "data": {
      "text/plain": [
       "array([ 0,  2,  4,  6,  8, 10, 12, 14, 16, 18, 20, 22, 24, 26, 28, 30, 32,\n",
       "       34, 36, 38, 40, 42, 44, 46, 48, 50, 52, 54, 56, 58, 60, 62, 64, 66,\n",
       "       68, 70, 72, 74, 76, 78, 80, 82, 84, 86, 88, 90, 92, 94, 96, 98])"
      ]
     },
     "execution_count": 182,
     "metadata": {},
     "output_type": "execute_result"
    }
   ],
   "source": [
    "y"
   ]
  },
  {
   "cell_type": "code",
   "execution_count": 189,
   "id": "2498b849",
   "metadata": {},
   "outputs": [
    {
     "ename": "TypeError",
     "evalue": "choice() got an unexpected keyword argument 'dtype'",
     "output_type": "error",
     "traceback": [
      "\u001b[0;31m---------------------------------------------------------------------------\u001b[0m",
      "\u001b[0;31mTypeError\u001b[0m                                 Traceback (most recent call last)",
      "\u001b[0;32m<ipython-input-189-6a219f2572d6>\u001b[0m in \u001b[0;36m<module>\u001b[0;34m\u001b[0m\n\u001b[0;32m----> 1\u001b[0;31m \u001b[0mnp\u001b[0m\u001b[0;34m.\u001b[0m\u001b[0mrandom\u001b[0m\u001b[0;34m.\u001b[0m\u001b[0mchoice\u001b[0m\u001b[0;34m(\u001b[0m\u001b[0;34m(\u001b[0m\u001b[0mx\u001b[0m\u001b[0;34m,\u001b[0m\u001b[0my\u001b[0m\u001b[0;34m)\u001b[0m\u001b[0;34m,\u001b[0m\u001b[0mdtype\u001b[0m\u001b[0;34m=\u001b[0m\u001b[0mobject\u001b[0m\u001b[0;34m)\u001b[0m\u001b[0;34m\u001b[0m\u001b[0;34m\u001b[0m\u001b[0m\n\u001b[0m",
      "\u001b[0;32mmtrand.pyx\u001b[0m in \u001b[0;36mnumpy.random.mtrand.RandomState.choice\u001b[0;34m()\u001b[0m\n",
      "\u001b[0;31mTypeError\u001b[0m: choice() got an unexpected keyword argument 'dtype'"
     ]
    }
   ],
   "source": [
    "np.random.choice((x,y),dtype=object)"
   ]
  },
  {
   "cell_type": "code",
   "execution_count": null,
   "id": "90133bca",
   "metadata": {},
   "outputs": [],
   "source": []
  }
 ],
 "metadata": {
  "kernelspec": {
   "display_name": "Python 3 (ipykernel)",
   "language": "python",
   "name": "python3"
  },
  "language_info": {
   "codemirror_mode": {
    "name": "ipython",
    "version": 3
   },
   "file_extension": ".py",
   "mimetype": "text/x-python",
   "name": "python",
   "nbconvert_exporter": "python",
   "pygments_lexer": "ipython3",
   "version": "3.9.7"
  }
 },
 "nbformat": 4,
 "nbformat_minor": 5
}
