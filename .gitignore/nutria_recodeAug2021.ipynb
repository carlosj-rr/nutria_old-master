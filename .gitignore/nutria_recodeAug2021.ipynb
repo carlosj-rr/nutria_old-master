{
 "cells": [
  {
   "cell_type": "markdown",
   "id": "e2e761e4",
   "metadata": {},
   "source": [
    "### Prologue: Importing packages"
   ]
  },
  {
   "cell_type": "code",
   "execution_count": 1,
   "id": "f3c8bf87",
   "metadata": {},
   "outputs": [],
   "source": [
    "import numpy as np\n",
    "import copy as cp\n",
    "import scipy, os, time\n",
    "import random\n",
    "import params_file as pf\n",
    "from scipy import stats\n",
    "import math\n",
    "import matplotlib.pyplot as plt\n",
    "import dill\n",
    "from datetime import datetime,date\n",
    "%matplotlib inline"
   ]
  },
  {
   "cell_type": "code",
   "execution_count": 3,
   "id": "829f8add",
   "metadata": {},
   "outputs": [],
   "source": [
    "import cProfile #This is to benchmark the code. Recommended by Djole."
   ]
  },
  {
   "cell_type": "code",
   "execution_count": 4,
   "id": "1ce1ad40",
   "metadata": {},
   "outputs": [],
   "source": [
    "from concurrent.futures import ProcessPoolExecutor # for using multiple cores."
   ]
  },
  {
   "cell_type": "markdown",
   "id": "43d39c08",
   "metadata": {},
   "source": [
    "# Chapter 1: Global declarations"
   ]
  },
  {
   "cell_type": "code",
   "execution_count": 5,
   "id": "859b81b3",
   "metadata": {},
   "outputs": [],
   "source": [
    "dna_codons=np.array(['ATA', 'ATC', 'ATT', 'ATG', 'ACA', 'ACC', 'ACG', 'ACT', 'AAC',\n",
    "       'AAT', 'AAA', 'AAG', 'AGC', 'AGT', 'AGA', 'AGG', 'CTA', 'CTC',\n",
    "       'CTG', 'CTT', 'CCA', 'CCC', 'CCG', 'CCT', 'CAC', 'CAT', 'CAA',\n",
    "       'CAG', 'CGA', 'CGC', 'CGG', 'CGT', 'GTA', 'GTC', 'GTG', 'GTT',\n",
    "       'GCA', 'GCC', 'GCG', 'GCT', 'GAC', 'GAT', 'GAA', 'GAG', 'GGA',\n",
    "       'GGC', 'GGG', 'GGT', 'TCA', 'TCC', 'TCG', 'TCT', 'TTC', 'TTT',\n",
    "       'TTA', 'TTG', 'TAC', 'TAT', 'TGC', 'TGT', 'TGG','TAA','TAG','TGA'], dtype=object)"
   ]
  },
  {
   "cell_type": "code",
   "execution_count": 6,
   "id": "dc36d651",
   "metadata": {},
   "outputs": [],
   "source": [
    "trans_aas=np.array(['I', 'I', 'I', 'M', 'T', 'T', 'T', 'T', 'N', 'N', 'K', 'K', 'S',\n",
    "       'S', 'R', 'R', 'L', 'L', 'L', 'L', 'P', 'P', 'P', 'P', 'H', 'H',\n",
    "       'Q', 'Q', 'R', 'R', 'R', 'R', 'V', 'V', 'V', 'V', 'A', 'A', 'A',\n",
    "       'A', 'D', 'D', 'E', 'E', 'G', 'G', 'G', 'G', 'S', 'S', 'S', 'S',\n",
    "       'F', 'F', 'L', 'L', 'Y', 'Y', 'C', 'C', 'W','_','_','_'], dtype=object)"
   ]
  },
  {
   "cell_type": "code",
   "execution_count": 7,
   "id": "99faeb85",
   "metadata": {},
   "outputs": [],
   "source": [
    "data_fields=np.array([\"generation\",\"genome\",\"proteome\",\"grn\",\"thresholds\",\"decays\",\"start_vect\",\"development\",\"genes_on\",\"fitness\"])"
   ]
  },
  {
   "cell_type": "markdown",
   "id": "1e2c00bc",
   "metadata": {},
   "source": [
    "# Chapter 2. Main functions to create an organism and a population"
   ]
  },
  {
   "cell_type": "markdown",
   "id": "3c283a65",
   "metadata": {},
   "source": [
    "Each organism is a ragged numpy array combining several other numpy arrays, with the following contents:\n",
    "* \\[0\\] generation number (always '0' for the founder)\n",
    "* \\[1\\] the genome\n",
    "* \\[2\\] the proteome\n",
    "* \\[3\\] the grn\n",
    "* \\[4\\] the expression threshold levels\n",
    "* \\[5\\] the decay lambdas\n",
    "* \\[6\\] the starting vector\n",
    "* \\[7\\] the development\n",
    "* \\[8\\] the 'genes_on' vector\n",
    "* \\[9\\] the fitness\n",
    "\n",
    "The output now is a population i.e. an array where each 'row' is an organism array, and because this is a single organism only, it has only one 'row' - a single first dimension. This should make sense later."
   ]
  },
  {
   "cell_type": "code",
   "execution_count": 8,
   "id": "65a68ae9",
   "metadata": {},
   "outputs": [],
   "source": [
    "def founder_miner(min_fitness=0.6):\n",
    "    fitness=0\n",
    "    while fitness < min_fitness:\n",
    "        # Importing values for producing the genomic sequences\n",
    "        n_generation=0\n",
    "        n_genes=pf.num_genes\n",
    "        seq_len=pf.seq_length\n",
    "        genome,proteome=makeGenomeandProteome(seq_len,n_genes,dna_codons,trans_aas)\n",
    "        #print(genome)\n",
    "        # Importing the values for producing all the regulatory information.\n",
    "        prop_off=pf.prop_unlinked # thresholds and decays will have the converse of this probability as 0s. See blow.\n",
    "        thresh_boundaries=pf.thresh_boundaries # tuple of 2 values.\n",
    "        decay_boundaries=pf.decay_boundaries # tuple of 2 values.\n",
    "        grn=makeGRN(n_genes,prop_off)\n",
    "        thresholds=randomMaskedVector(n_genes,(1-prop_off),thresh_boundaries[0],thresh_boundaries[1])\n",
    "        decays=randomMaskedVector(n_genes,(1-prop_off),decay_boundaries[0],decay_boundaries[1])\n",
    "        # Importing values for the developmental info\n",
    "        dev_steps=pf.dev_steps\n",
    "        start_vect=(lambda x: np.array([1]*1+[0]*(x-1)))(n_genes)\n",
    "        development=develop(start_vect,grn,decays,thresholds,dev_steps)\n",
    "        genes_on=(development.sum(axis=0) != 0).astype(int)\n",
    "        #print(f\"Current fitness {fitness} is lower than minimum {min_fitness}\")\n",
    "        fitness=calcFitness(development)\n",
    "        out_arr=np.array([np.array((n_generation,genome,proteome,grn,thresholds,decays,start_vect,development,genes_on,fitness),dtype=object)])\n",
    "    return(out_arr)"
   ]
  },
  {
   "cell_type": "markdown",
   "id": "f0be9eb9",
   "metadata": {},
   "source": [
    "The translate_codon() function well...it takes a codon (in DNA format) and outputs the corresponding amino acid. I've also re-written it in lambda-function format (now deleted), out of curiosity mainly, because changing it in the code I think will result in reduced readability."
   ]
  },
  {
   "cell_type": "code",
   "execution_count": 9,
   "id": "fe3f46ce",
   "metadata": {},
   "outputs": [],
   "source": [
    "def translate_codon(codon):\n",
    "    idx=np.where(dna_codons == codon)[0][0]\n",
    "    aminoac=trans_aas[idx]\n",
    "    return(aminoac)"
   ]
  },
  {
   "cell_type": "markdown",
   "id": "16a14694",
   "metadata": {},
   "source": [
    "# Chapter 3\n",
    "## Support functions for making an organism from scratch"
   ]
  },
  {
   "cell_type": "markdown",
   "id": "b6532269",
   "metadata": {},
   "source": [
    "#### GRN RELATED\n",
    "The makeGRN() function below will create a GRN as a numpy array of random regulatory interactions, with a user-defined proportion of interactions set to zero (the \"unlinked\" ones)."
   ]
  },
  {
   "cell_type": "code",
   "execution_count": 10,
   "id": "bf95e2e4",
   "metadata": {},
   "outputs": [],
   "source": [
    "def makeGRN(numGenes,prop_unlinked):\n",
    "    grn = randomMaskedVector(numGenes ** 2,prop_unlinked,pf.new_link_bounds[0],pf.new_link_bounds[1])\n",
    "    grn = grn.reshape(numGenes,numGenes)\n",
    "    return(grn)"
   ]
  },
  {
   "cell_type": "markdown",
   "id": "7ba47d89",
   "metadata": {},
   "source": [
    "#### SEQUENCE RELATED\n",
    "**Below _were_ the TWO functions that create the sequence arrays. Now they're numpy string arrays of n genes by m codons.**\n",
    "Must trace back the function calls and correct any possible bugs. _makeRandomSequence()_, and _makeRandomSequenceArray()_."
   ]
  },
  {
   "cell_type": "code",
   "execution_count": 11,
   "id": "b2aab81d",
   "metadata": {},
   "outputs": [],
   "source": [
    "def makeGenomeandProteome(seq_length,num_genes,dna_codons=dna_codons,trans_aas=trans_aas):\n",
    "    if seq_length % 3:\n",
    "#        print(\"Sequence length\",seq_length,\"is not a multiple of 3.\")\n",
    "        seq_length = seq_length - (seq_length % 3)\n",
    "        num_codons = int(seq_length/3)\n",
    "#        print(\"Rounding to\", seq_length,\"for\",num_codons,\"codons\")\n",
    "    else:\n",
    "        num_codons=int(seq_length/3)\n",
    "    idx_vect=np.array(range(0,len(dna_codons)-3))\n",
    "    genome_arr=np.empty((num_genes,num_codons),dtype=object)\n",
    "    proteome_arr=np.empty((num_genes,num_codons),dtype=object)\n",
    "    for i in range(0,num_genes):\n",
    "        rand_codon_idx=np.hstack((np.random.choice(idx_vect,(num_codons-1)),np.random.choice((61,62,63),1)))\n",
    "        #len(rand_codons)\n",
    "        genome_arr[i]=np.array(dna_codons[rand_codon_idx])\n",
    "        proteome_arr[i]=np.array(trans_aas[rand_codon_idx])\n",
    "    return(genome_arr,proteome_arr)"
   ]
  },
  {
   "cell_type": "markdown",
   "id": "b369c86f",
   "metadata": {},
   "source": [
    "#### OTHER SUPPORTING FUNCTIONS"
   ]
  },
  {
   "cell_type": "code",
   "execution_count": 12,
   "id": "8567dcda",
   "metadata": {},
   "outputs": [],
   "source": [
    "# Function that creates a vector of a given amount of values (within a given range), in which a certain proportion of the values are masked.\n",
    "def randomMaskedVector(num_vals,prop_zero=0,min_val=0,max_val=1):\n",
    "    if min_val > max_val:\n",
    "        print(\"Error: minimum value greater than maximum value\")\n",
    "        return\n",
    "    range_size = max_val - min_val\n",
    "    if prop_zero == 0:\n",
    "        rpv = np.array(range_size * np.random.random(num_vals) + min_val)\n",
    "    else:\n",
    "        mask = np.random.choice((0,1),num_vals,p=(prop_zero,1-prop_zero))\n",
    "        rpv = np.array(range_size * np.random.random(num_vals) + min_val)\n",
    "        rpv = (rpv * mask) + 0\n",
    "    return(rpv)"
   ]
  },
  {
   "cell_type": "markdown",
   "id": "7b61452c",
   "metadata": {},
   "source": [
    "# Chapter 4:\n",
    "## Mutation Functions"
   ]
  },
  {
   "cell_type": "markdown",
   "id": "af2144b1",
   "metadata": {},
   "source": [
    "### Genome Mutation\n",
    "Essentially, what genome_mutation() does now is:\n",
    "* Takes in the genome and proteome that will be mutated\n",
    "* Takes in an array with 3D coordinates for each mutation, in the format \\[gene_number,codon_number_ingene,codon_position\\]\n",
    "* For each mutation:\n",
    "   1. mutate the correct nucleotide\n",
    "   2. translate the mutated codon\n",
    "   3. determine what kind of mutation it was (nonsense, non-syn, syn)\n",
    "   4. add the gene number and the mutation type into the muttype_vect object\n",
    "* Once this is done, the function outputs the mutated genome, the mutated proteome, and the array that says what type of mutation happened where (nonsense = 0, nonsyn=1, syn=2)."
   ]
  },
  {
   "cell_type": "code",
   "execution_count": 13,
   "id": "fb764445",
   "metadata": {},
   "outputs": [],
   "source": [
    "def mutate_genome(gnome,prome,mut_coords):\n",
    "    gnome=cp.deepcopy(gnome)\n",
    "    prome=cp.deepcopy(prome)\n",
    "    mut_num=mut_coords.shape[0] #get the number of rows in the mutation coordinate array, this is the number of mutations\n",
    "    muttype_vect=np.ndarray((mut_num,2),dtype=object)\n",
    "    for i in range(mut_num):\n",
    "        coordinates=mut_coords[i,:]\n",
    "        #print(coordinates)\n",
    "        selected_gene=coordinates[0]\n",
    "        selected_codon_from_gene=coordinates[1]\n",
    "        selected_codpos=coordinates[2]\n",
    "        #print((selected_gene,selected_codon_from_gene),selected_codpos)\n",
    "        selected_codon=gnome[selected_gene,selected_codon_from_gene]\n",
    "        prev_aacid=translate_codon(selected_codon)\n",
    "        mutated_codon=pointMutateCodon(selected_codon,selected_codpos)\n",
    "        gnome[selected_gene,selected_codon_from_gene]=mutated_codon\n",
    "        new_aacid=translate_codon(mutated_codon)\n",
    "        if prev_aacid == new_aacid: #Synonymous mutations are plotted as '2'\n",
    "            muttype=2\n",
    "        elif new_aacid == \"_\": # Nonsense mutations are plotted as '0'\n",
    "            muttype=0\n",
    "        else: # Nonsynonymous mutations are plotted as '1'\n",
    "            muttype=1\n",
    "        prome[selected_gene,selected_codpos]=new_aacid\n",
    "        muttype_vect[i]=(selected_gene,muttype)\n",
    "    out_genome=gnome\n",
    "    out_proteome=prome\n",
    "    return(out_genome,out_proteome,muttype_vect)"
   ]
  },
  {
   "cell_type": "markdown",
   "id": "6db487f1",
   "metadata": {},
   "source": [
    "#### codPos function\n",
    "This function takes in an array of mutation sites (with reference to the whole genome - i.e., a genome of 5 genes with 500 codons each will result in numbers ranging from 0 to 5\\*500*3=7500, and outputs a 3D array that, for each mutation, will give a 3-number coordinate in the format: \\[gene_number,codon_number(in gene),codon_position]. This will then be moved into the mutation function, and each mutated base can be accessed through genome[gene_number,codon_number][codon_position]. Also it has the obvious benefit of pinpointing exactly where each mutation is occurring.\n",
    "In the end, I decided to produce 'keys': arrays of the same size of the genome, that for each base have, respectively, the gene number, the codon number in the gene, and the codon position."
   ]
  },
  {
   "cell_type": "code",
   "execution_count": 14,
   "id": "b24d72f2",
   "metadata": {},
   "outputs": [],
   "source": [
    "def codPos(muts,num_genes,num_codons):\n",
    "    #base1=num+1\n",
    "    out_array=np.ndarray((muts.size,3),dtype=object)\n",
    "    gene_bps=num_codons*3\n",
    "    genome_bps=gene_bps*num_genes\n",
    "    genenum_array=np.ndarray((num_genes,gene_bps),dtype=object)\n",
    "    for i in range(num_genes):\n",
    "        genenum_array[i,:]=i\n",
    "    genenum_array=genenum_array.flatten()\n",
    "    #print(\"genenum_array:\",genenum_array)\n",
    "    codpos_array=np.tile([0,1,2],num_codons*num_genes)\n",
    "    #print(\"codpos_array:\",codpos_array)\n",
    "    codnum_array=np.ndarray((num_genes,gene_bps),dtype=object)\n",
    "    for i in range(num_genes):\n",
    "        codnum_array[i,:]=np.repeat(range(num_codons),3)\n",
    "    codnum_array=codnum_array.flatten()\n",
    "    #print(\"codnum_array:\",codnum_array)\n",
    "    for i in range(muts.size):\n",
    "        basenum=muts[i]\n",
    "        mut_val=np.array([genenum_array[basenum],codnum_array[basenum],codpos_array[basenum]])\n",
    "        out_array[i,:]=mut_val\n",
    "    return(out_array)\n",
    "    "
   ]
  },
  {
   "cell_type": "code",
   "execution_count": 15,
   "id": "b9f28577",
   "metadata": {},
   "outputs": [],
   "source": [
    "def randomMutations(in_genome,mut_rateseq):\n",
    "    total_bases=in_genome.size*3 #Each value in the genome is a codon, so the whole length (in nucleotides) is the codons times 3\n",
    "    mutations=np.random.choice((0,1),total_bases,p=(1-mut_rateseq,mut_rateseq))\n",
    "    m=np.array(np.where(mutations != 0)).flatten()\n",
    "    if m.size:\n",
    "        output=m\n",
    "    else:\n",
    "        output=False\n",
    "    return(output)"
   ]
  },
  {
   "cell_type": "code",
   "execution_count": 16,
   "id": "6fd0868f",
   "metadata": {},
   "outputs": [],
   "source": [
    "# Input is an organism array, as produced by the founder_miner() function, and the mutation rate of the nucleotide sequence (i.e. mutation probability per base).\n",
    "def mutation_wrapper(orgarr,mut_rateseq):\n",
    "    orgarrcp=cp.deepcopy(orgarr[0])\n",
    "    in_gen_num=orgarrcp[0]\n",
    "    in_genome=orgarrcp[1]\n",
    "    in_proteome=orgarrcp[2]\n",
    "    in_grn=orgarrcp[3]\n",
    "    in_thresh=orgarrcp[4]\n",
    "    in_decs=orgarrcp[5]\n",
    "    in_start_vect=orgarrcp[6]\n",
    "    in_dev=orgarrcp[7]\n",
    "    in_genes_on=(in_dev.sum(axis=0) != 0).astype(int)\n",
    "    in_fitness=orgarrcp[9]\n",
    "    mutations=randomMutations(in_genome,mut_rateseq)\n",
    "    #print(mutations)\n",
    "    if np.any(mutations):\n",
    "        mut_coords=codPos(mutations,in_genome.shape[0],in_genome.shape[1])\n",
    "        #print(mut_coords)\n",
    "        out_genome,out_proteome,mutlocs=mutate_genome(in_genome,in_proteome,mut_coords)\n",
    "        out_grn,out_thresh,out_decs=regulator_mutator(in_grn,in_genes_on,in_decs,in_thresh,mutlocs)\n",
    "        out_dev=develop(in_start_vect,out_grn,out_decs,out_thresh,pf.dev_steps)\n",
    "        out_genes_on=(out_dev.sum(axis=0) != 0).astype(int)\n",
    "        out_fitness=calcFitness(out_dev)\n",
    "    else:\n",
    "        out_genome=in_genome\n",
    "        out_proteome=in_proteome\n",
    "        out_grn=in_grn\n",
    "        out_thresh=in_thresh\n",
    "        out_decs=in_decs\n",
    "        out_dev=in_dev\n",
    "        out_genes_on=(out_dev.sum(axis=0) != 0).astype(int)\n",
    "        out_fitness=in_fitness\n",
    "    out_gen_num=in_gen_num+1\n",
    "    out_org=np.array([[out_gen_num,out_genome,out_proteome,out_grn,out_thresh,out_decs,out_genes_on,out_dev,out_genes_on,out_fitness]],dtype=object)\n",
    "    return(out_org)"
   ]
  },
  {
   "cell_type": "code",
   "execution_count": 17,
   "id": "f0b505b3",
   "metadata": {},
   "outputs": [],
   "source": [
    "def pointMutateCodon(codon,pos_to_mutate):\n",
    "    bases=(\"T\",\"C\",\"A\",\"G\")\n",
    "    base=codon[pos_to_mutate]\n",
    "    change = [x for x in bases if x != base]\n",
    "    new_base = np.random.choice(change)\n",
    "    split_codon=np.array(list(codon))\n",
    "    split_codon[pos_to_mutate]=new_base\n",
    "    new_codon=\"\".join(split_codon)\n",
    "    return(new_codon)"
   ]
  },
  {
   "cell_type": "markdown",
   "id": "0fcb6084",
   "metadata": {},
   "source": [
    "### GRN mutation"
   ]
  },
  {
   "cell_type": "markdown",
   "id": "c9ccc406",
   "metadata": {},
   "source": [
    "##### weight_mut():\n",
    "This function was built for the special case of when all the genes are expressed in the genome, so no *actual* synonymous mutation can be done. In such cases, I'll assume that a synonymous mutation is simply a **very minor** change in the GRN, even in an interaction that exists already. However, I realized that this function can be generalized to do any change, using the arguments to control it. For example, non-synonymous changes could also use the same function, but with a higher scale value and activations can be done by giving as a value the average weight, and adding a small percentage as a scaler.\n",
    "\n",
    "For this, _weight_mut()_ takes in the value, and gives as a result a random number chosen from a uniform distribution that goes from -value(1/_x_) to value(1/_x_), where x is a scaling factor that by default is 100.\n",
    "\n",
    "So, a synoymous change in weights would be a random number that will be smaller than a hundredth of the current value. Needless to say, this won't work with links that are 'off' (=0)."
   ]
  },
  {
   "cell_type": "code",
   "execution_count": 18,
   "id": "5bc70514",
   "metadata": {},
   "outputs": [],
   "source": [
    "def weight_mut(value,scaler=0.01):\n",
    "    val=abs(value) #Make sure value is positive\n",
    "    if val == 0:\n",
    "        '''For values at zero, simply get 1, and then modify it by the scale\n",
    "        This is for activating thresholds that are 0.'''\n",
    "        val=scaler/scaler\n",
    "    scaled_val=val*scaler #scale the value\n",
    "    newVal=value+np.random.uniform(-scaled_val,scaled_val) #add the scaled portion to the total value to get the final result.\n",
    "    return(newVal)"
   ]
  },
  {
   "cell_type": "code",
   "execution_count": 19,
   "id": "8b849f70",
   "metadata": {},
   "outputs": [],
   "source": [
    "def threshs_and_decs_mutator(in_thresh,in_dec,mutarr):\n",
    "    #print(f\"Input thresholds were: {in_thresh}\")\n",
    "    #print(f\"Input decays were: {in_dec}\")\n",
    "    #print(f\"Input mutarr was:\\n{mutarr}\")\n",
    "    the_tuple=(in_thresh,in_dec) # make a tuple in which the threshold array is the first value, and the decays the second.\n",
    "    # This will allow me to easily choose among them at the time of mutating, see within the for loop.\n",
    "    num_genes=len(in_thresh) #get the number of genes from the amount of values in the thresholds array\n",
    "    genes=mutarr[:,0] # get the genes to be mutated from the mutarray's 1st column\n",
    "    #print(f\"The array of genes to be mutated is:\\n{genes}\")\n",
    "    for i in np.arange(len(genes)): #go through each gene, and decide randomly whether to make a threshold or a decay mutation in the gene.'''\n",
    "        tuple_idx=np.random.choice((0,1))\n",
    "        #print(f\"Thresholds = 0, Decays = 1, Random choice was = {tuple_idx}\")\n",
    "        gene_num=genes[i] # extract specific gene number that has to be mutated. This maps to the thresh and dec arrays.\n",
    "        #print(f\"This means that gene {gene_num} will be mutated:\\nValue {the_tuple[tuple_idx][gene_num]}\")\n",
    "        new_value=abs(weight_mut(the_tuple[tuple_idx][gene_num]))\n",
    "        the_tuple[tuple_idx][gene_num]=new_value\n",
    "        #print(f\"...is now {new_value}\")\n",
    "    out_thresh,out_decs=(the_tuple[0],the_tuple[1])\n",
    "    return(out_thresh,out_decs)"
   ]
  },
  {
   "cell_type": "markdown",
   "id": "b44c3629",
   "metadata": {},
   "source": [
    "### Regulation mutation function\n",
    "This function looks quite big because it's in charge of translating the sequence mutations into mutations in any of the regulatory interactions (GRN weights, gene decay rates, gene expression thresholds).\n",
    "Inputs:\n",
    "* A parental organism (but could be just the GRN)\n",
    "* The 'muttype_vect' array\n",
    "    * Came out of the genome mutator function\n",
    "        * For each mutation:\n",
    "            * First col: gene number\n",
    "            * Second col: type of mutation:\n",
    "                * 0=nonsense\n",
    "                * 1=non-synonymous\n",
    "                * 2=synonymous mutations\n",
    "                \n",
    "First off, it decides with a biased coin toss whether any of the mutated genes passed in the muttype_vect array will be thresholds or decays. The coin toss is biased because the thresholds and decay rates represent only a small amount of the regulatory interactions present. Precisely, they represent only 2N/(2N+N^2) of the interactions, where N is the number of genes. In this function, I've algebraically simplified the expression to 2/(2+N). If it ends up choosing any number of mutations to be in the thresholds or the decay rates, it calls the \"threshs_and_decs_mutation()\" function (declared above), and sends over the chosen mutations there, while removing them from the original muttype_vect, so as not to mutate repeatedly the same genes in the GRN.\n",
    "\n",
    "Then, it goes through each remaining entry in the muttype_vect and mutates the regulatory link/weight according to the following set of rules:\n",
    "* If the mutation is nonsense ('0'):\n",
    "    1. Multiply the column and the row of that gene by 0\n",
    "* If the gene is ON:\n",
    "    1. Identify all the nonzero values for that gene\n",
    "    2. If the mutation is non-synonymous ('1'):\n",
    "        * mutate a random nonzero value with weight_mut(orig_value,0.5). weight_mut() mutates _orig_value_ by adding or subtracting any amount in between the -_p_ and +_p_, _p_ being in this case 0.5, or __half__ the amount of _orig_value_.\n",
    "    3. If the mutation is synonymous ('2'):\n",
    "        * mutate a random nonzero a tiiiiiny little with weight_mut(orig_value,0.001). See? here the mutation will never be more than a thousandth of the value. Tiiiiiiiiiny.\n",
    "    4. Otherwise return 'None' (in case some botched code sends a value that's neither 0,1,or 2)\n",
    "* If the gene is OFF:\n",
    "    1. If the mutation is non-synonymous ('1'):\n",
    "        * identify all __zero/inactive__ values for that gene\n",
    "        * turn a random *inactive* value __ON__, choosing the number from the mean expressed value, and randomly choosing the sign\n",
    "    2. If the mutation is synonymous ('2'):\n",
    "        * get __all__ values for that gene\n",
    "        * choose one at random, and mutate it with weight_mut(orig_value,0.5)\n",
    "    3. Otherwise also return 'None'\n",
    "* Return the modified grn, decay rates vector, and expression thresholds vector.\n"
   ]
  },
  {
   "cell_type": "code",
   "execution_count": 20,
   "id": "96661695",
   "metadata": {},
   "outputs": [],
   "source": [
    "mut_kinds=np.array([\"nonsense\",\"non-synonymous\",\"synonymous\"])"
   ]
  },
  {
   "cell_type": "code",
   "execution_count": 21,
   "id": "f6827e51",
   "metadata": {},
   "outputs": [],
   "source": [
    "def regulator_mutator(in_grn,genes_on,in_dec,in_thresh,muttype_vect):\n",
    "    curr_grn=cp.deepcopy(in_grn)\n",
    "    curr_thr=cp.deepcopy(in_thresh)\n",
    "    curr_genes_on=cp.deepcopy(genes_on)\n",
    "    curr_dec=cp.deepcopy(in_dec)\n",
    "    curr_muttype_vect=cp.deepcopy(muttype_vect)\n",
    "    inactive_links=np.array(list(zip(np.where(curr_grn == 0)[0],np.where(curr_grn == 0)[1])))\n",
    "    num_genes=pf.num_genes\n",
    "    '''I'm adding here a section that decides if any of the mutations will go to the thresholds or the decays.\n",
    "    If there are any changes that have to happen in the decays and/or thresholds, we can call their mutation\n",
    "    function. Otherwise we can keep on going.'''\n",
    "    prop=2/(2+num_genes**2) #proportion of mutable sites that are thresholds OR decays\n",
    "    hits=np.nonzero(np.random.choice((0,1),len(muttype_vect),p=(1-prop,prop)))[0]\n",
    "    if hits.size > 0:\n",
    "        mutsarr=curr_muttype_vect[hits]\n",
    "        #print(f\"Sending mutations:\\n{mutsarr} to decays/thresholds\")\n",
    "        out_threshs,out_decs=threshs_and_decs_mutator(in_thresh,in_dec,mutsarr)\n",
    "        curr_muttype_vect=np.delete(curr_muttype_vect,hits,axis=0)\n",
    "    else:\n",
    "        out_threshs,out_decs=curr_thr,curr_dec\n",
    "    if curr_muttype_vect.size > 0:\n",
    "        for i in curr_muttype_vect:\n",
    "            gene=i[0]\n",
    "            mtype=i[1]\n",
    "            #print(f\"Gene {gene} has mutation type {mut_kinds[mtype]}\")\n",
    "            if mtype != 0: # For all non-KO mutations (i.e. synonymous, and non-synonymous)...\n",
    "                # Check this block all the way down to the \"<>\" below\n",
    "                if curr_genes_on[gene]: # If the gene is ON...\n",
    "                    active_links=np.array(list(zip(np.nonzero(curr_grn)[0],np.nonzero(curr_grn)[1])))\n",
    "                    #print(f\"Gene {gene} is ON ({curr_genes_on[gene]}).\")\n",
    "                    actives_in_gene=np.concatenate((active_links[active_links[:,1] == gene,:],active_links[active_links[:,0] == gene,:]),axis=0) # get the gene's active links\n",
    "                    #print(f\"Gene {gene}'s active links are:\\n{actives_in_gene}, and the gene's cells show:\\n {curr_grn[:,gene]} \\n and {curr_grn[gene,:]}\")\n",
    "                    #print(f\"GRN is:\\n{in_grn}\")\n",
    "                    if mtype == 1: # And the mutation is non-synonymous...\n",
    "                        #print(f\"Mutation {mtype} is NS\")\n",
    "                        #print(f\"range to be used is range({len(actives_in_gene)})\")\n",
    "                        rand_idx=np.random.choice(np.arange(len(actives_in_gene))) # FIXED # get a random index number for mutating a link\n",
    "                        coordinates=tuple(actives_in_gene[rand_idx,:]) # get the random link's specific coordinates\n",
    "                        val=curr_grn[coordinates] # Extract the value that will be mutated.\n",
    "                        curr_grn[coordinates]=weight_mut(val,0.5) # mutate the value.\n",
    "                        #print(f\"Mutating coordinate {coordinates} of the GRN, currently showing the value {val} to {in_grn[coordinates]}\")\n",
    "                    elif mtype == 2: # If gene is ON, and the mutation is synonymous...\n",
    "                        #print(f\"Mutation {mtype} is S\")\n",
    "                        #print(f\"range to be used is range({len(actives_in_gene)})\")\n",
    "                        rand_idx=np.random.choice(np.arange(len(actives_in_gene))) # FIXED # Same as above\n",
    "                        coordinates=tuple(actives_in_gene[rand_idx,:]) # Same as above\n",
    "                        val=curr_grn[coordinates] # Same as above\n",
    "                        curr_grn[coordinates]=weight_mut(val,0.001) # mutate the value by a very small amount.\n",
    "                        #print(f\"Mutating coordinate {coordinates} of the GRN a tiny little only, from {val} to {in_grn[coordinates]}\")\n",
    "                    else:\n",
    "                        #print(f\"Gene {gene} is neither on nor off, its state is {curr_genes_on[gene]}\")\n",
    "                        None\n",
    "                #<<<<<<<<<<<<<<<<<<<<<<<<<<<<<<<<<<<<<<<<<<<<<<<<<<<<<<<888>>>>>>>>>>>>>>>>>>>>>>>>>>>>>>>>>>>>>>>>>>>>>>>>>>>>>>>>>>\n",
    "                else: # If the gene is OFF...\n",
    "                    #print(f\"Gene {gene} is OFF ({curr_genes_on[gene]}).\")\n",
    "                    if mtype == 1: # And the mutation is non-synonymous\n",
    "                        #print(f\"And gene{gene}'s mutation is NS\")\n",
    "                        inactive_links=np.array(list(zip(np.where(curr_grn == 0)[0],np.where(curr_grn == 0)[1])))\n",
    "                        inactives_in_gene=np.concatenate((inactive_links[inactive_links[:,1] == gene,:],inactive_links[inactive_links[:,0] == gene,:]),axis=0)\n",
    "                        rand_idx=np.random.choice(np.arange(len(inactives_in_gene))) # FIXED # Same as above, but with inactives instead\n",
    "                        coordinates=tuple(inactives_in_gene[rand_idx,:]) # Same as above above             \n",
    "                        mean_exp_val=np.mean(np.abs(curr_grn[np.nonzero(curr_grn)])) # Mean expression amount\n",
    "                        sign=np.random.choice((-1,1)) # Randomly choose between negative or positive\n",
    "                        new_val=mean_exp_val*sign\n",
    "                        #print(f\"Flipping inactive value at coordinate {coordinates} on at level {new_val}\")\n",
    "                        in_grn[coordinates]=new_val\n",
    "                    elif mtype == 2: # If gene is OFF, and the mutation is synonymous...\n",
    "                        # check for all active links of the gene\n",
    "                        active_links=np.array(list(zip(np.nonzero(curr_grn)[0],np.nonzero(curr_grn)[1])))\n",
    "                        if active_links.size == 0: #If no links are active (such as in a gene that just got KO'd)...\n",
    "                            all_links=np.array(list(zip(np.where(curr_grn == 0)[0],np.where(curr_grn == 0)[1]))) # Use the inactives to mutate\n",
    "                        else: # Otherwise mutate any link from that gene (since it's off, all changes are synonymous)\n",
    "                            inactive_links=np.array(list(zip(np.where(curr_grn == 0)[0],np.where(curr_grn == 0)[1])))\n",
    "                            all_links=np.concatenate((active_links,inactive_links),axis=0)\n",
    "                        #all_links=np.concatenate((inactive_links,active_links),axis=0)\n",
    "                        actives_in_gene=np.concatenate((all_links[all_links[:,1] == gene,:],all_links[all_links[:,0] == gene,:]),axis=0) # get the gene's active links\n",
    "                        #print(f\"range to be used is range({len(actives_in_gene)})\")\n",
    "                        rand_idx=np.random.choice(np.arange(len(actives_in_gene))) # FIXED # get a random index number for mutating a link\n",
    "                        coordinates=tuple(actives_in_gene[rand_idx,:]) # get the random link's specific coordinates\n",
    "                        val=curr_grn[coordinates] # Extract the value that will be mutated.\n",
    "                        #print(f\"Mutating coordinate {coordinates} of the GRN, currently showing the value {val}\")\n",
    "                        curr_grn[coordinates]=weight_mut(val,0.5) # mutate the value.\n",
    "                    else:\n",
    "                        None            \n",
    "            else: # If mutation is KO\n",
    "                curr_grn[gene,:]=0\n",
    "                curr_grn[:,gene]=0\n",
    "                out_grn=curr_grn\n",
    "                curr_genes_on[gene]=0 # Important change to avoid THE bug.\n",
    "                #print(f\"Knocking out gene{gene}: {curr_genes_on[gene]}.\")\n",
    "    else:\n",
    "        pass\n",
    "        #print(\"No mutations in this round\")\n",
    "    out_grn=cp.deepcopy(curr_grn)\n",
    "    #print(\"Copying the input GRN deeply\")\n",
    "    #out_dev=develop(in_start_vect, out_grn,out_decs,out_threshs,pf.dev_steps)\n",
    "    #out_genes_on=(out_dev.sum(axis=0) != 0).astype(int)\n",
    "    #out_fitness=calcFitness(out_dev)\n",
    "    return(out_grn,out_threshs,out_decs)"
   ]
  },
  {
   "cell_type": "markdown",
   "id": "77c4abb7",
   "metadata": {},
   "source": [
    "## Development function\n",
    "Gets the GRN and simulates the development of it through an iterative matrix dot product."
   ]
  },
  {
   "cell_type": "code",
   "execution_count": 22,
   "id": "da01d8e0",
   "metadata": {},
   "outputs": [],
   "source": [
    "def develop(start_vect,grn,decays,thresholds,dev_steps):\n",
    "    start_vect = start_vect\n",
    "#    print(f\"Starting with vector: {start_vect}\\n and thresholds {thresholds}\")\n",
    "    geneExpressionProfile = np.ndarray(((pf.dev_steps+1),pf.num_genes))\n",
    "    geneExpressionProfile[0] = np.array([start_vect])\n",
    "    #Running the organism's development, and outputting the results\n",
    "    #in an array called geneExpressionProfile\n",
    "    invect = start_vect\n",
    "    counter=1\n",
    "    for i in range(dev_steps):\n",
    "#      print(f\"Development step {counter}\")\n",
    "        decayed_invect = (lambda x, l: x*np.exp(-l))(invect,decays) # apply decay to all gene qties. previously: exponentialDecay(invect,decays)\n",
    "#        print(f\"Shapes of objects to be fed to matmul:\\n{grn.shape}\\t{decayed_invect.shape}\")\n",
    "        exp_change = np.matmul(grn,decayed_invect) #calculate the regulatory effect of the decayed values.\n",
    "#        exp_change = myDotProd(grn,decayed_invect) #check my bootleg dot product function\n",
    "#        print(f\"Output of dot product:\\n{exp_change}\")\n",
    "        pre_thresholds = exp_change + decayed_invect # add the decayed amounts to the regulatory effects\n",
    "#        print(f\"Result when added:\\n{pre_thresholds}\")\n",
    "        thresholder = (pre_thresholds > thresholds).astype(int) # a vector to rectify the resulting values to their thresholds.\n",
    "#        print(f\"Threshold rectifier vector:\\n{thresholder}\")\n",
    "        currV = pre_thresholds * thresholder # rectify with the thresholder vect. This step resulted in the deletion of the 'rectify()' function\n",
    " #       print(f\"Rectifying with the thresholds gives:\\n{currV}\")\n",
    " #      currV = currV\n",
    "        geneExpressionProfile[(i+1)] = currV\n",
    "        invect = currV\n",
    "        counter=counter+1\n",
    "    return(geneExpressionProfile)"
   ]
  },
  {
   "cell_type": "markdown",
   "id": "123dd24b",
   "metadata": {},
   "source": [
    "### Fitness functions\n",
    "The function that calculates the fitness of an organism based on its development, and the accessory functions that calculate parts of it."
   ]
  },
  {
   "cell_type": "code",
   "execution_count": 23,
   "id": "4666bf04",
   "metadata": {},
   "outputs": [],
   "source": [
    "def calcFitness(development):\n",
    "    min_reproducin = pf.min_reproducin\n",
    "    is_alive = lastGeneExpressed(development,min_reproducin)\n",
    "    if is_alive:\n",
    "        genes_on = propGenesOn(development)\n",
    "        exp_stab = expressionStability(development)\n",
    "        sim_to_exp = exponentialSimilarity(development)\n",
    "        fitness_val = np.mean([genes_on,exp_stab,sim_to_exp])\n",
    "    else:\n",
    "        fitness_val = 0\n",
    "    return(fitness_val)\n",
    "def lastGeneExpressed(development,min_reproducin):\n",
    "    dev_steps,num_genes = development.shape\n",
    "    last_col_bool = development[:,(num_genes - 1)] > min_reproducin\n",
    "    last_val_last_col = development[dev_steps - 1, (num_genes - 1)]\n",
    "    if last_col_bool.any() and last_val_last_col > 0:\n",
    "        return_val = True\n",
    "    else:\n",
    "        return_val = False\n",
    "    return(return_val)\n",
    "def propGenesOn(development):\n",
    "    genes_on = development.sum(axis=0) > 0\n",
    "    return(genes_on.mean())\n",
    "def expressionStability(development):  # I haven't thought deeply about this.\n",
    "    row_sums = development.sum(axis=1)# What proportion of the data range is\n",
    "    stab_val = row_sums.std() / (row_sums.max() - row_sums.min()) # the stdev? Less = better\n",
    "    return(stab_val)\n",
    "def exponentialSimilarity(development):\n",
    "    dev_steps,num_genes = development.shape\n",
    "    row_means = development.mean(axis=1)\n",
    "    tot_dev_steps = dev_steps\n",
    "    fitted_line = scipy.stats.linregress(range(tot_dev_steps),np.log(row_means))\n",
    "    r_squared = fitted_line.rvalue ** 2\n",
    "    return(r_squared)"
   ]
  },
  {
   "cell_type": "markdown",
   "id": "23ef4cd2",
   "metadata": {},
   "source": [
    "### Chapter 5: Population-making functions.\n",
    "These functions are meant to create a population from an arbitrary number of organisms. Thus, it will take as an input an array of organism arrays and the final total number of organisms in the population, and the reproductive strategy ('equals' means that each organism will be reproduced in equal amounts to fill up the total number of final individuals, 'fitness_linked' means that their ranking following their fitness value will determine the proportion of their offspring present in the final population, and [instert any other desired strategy here])"
   ]
  },
  {
   "cell_type": "code",
   "execution_count": 24,
   "id": "ca18318f",
   "metadata": {},
   "outputs": [],
   "source": [
    "# Assumes input is a population (i.e. an array of organism arrays), it should crash if it doesn't find 2 dimensions.\n",
    "def grow_pop(in_orgs,out_pop_size,strategy='equal'):\n",
    "    in_orgs=cp.deepcopy(in_orgs)\n",
    "    num_in_orgs=in_orgs.shape[0]\n",
    "    orgs_per_org=np.array([np.floor_divide(out_pop_size,num_in_orgs)])\n",
    "    #print(f\"Orgs per org is {orgs_per_org}.\")\n",
    "    corr_pop_size=orgs_per_org*num_in_orgs\n",
    "    #in_orgs=cp.deepcopy(in_orgs)\n",
    "    #print(f\"Making a population out of the {num_in_orgs} organisms given, reproductive strategy is {strategy}.\\nEach organism will have {orgs_per_org[0]} offspring, for a total of {corr_pop_size[0]}.\")\n",
    "    if strategy == 'equal':\n",
    "        orgs_per_org=np.repeat(orgs_per_org,num_in_orgs)\n",
    "        #print(f\"Offspring/organism array:\\n{orgs_per_org}\")\n",
    "    elif strategy == 'fitness_linked':\n",
    "        print(\"Reproduction is fitness bound.\")\n",
    "        pass\n",
    "    else:\n",
    "        print(f\"Reproductive strategy {strategy} not recognized\")\n",
    "        raise ValueError(\"Invalid reproductive strategy\")\n",
    "    counter=0\n",
    "    out_pop=np.ndarray((corr_pop_size[0],),dtype=object)\n",
    "    for k in range(num_in_orgs): # taking each input organism and adding the requested offspring to the output population.\n",
    "        num_offsp=orgs_per_org[k]\n",
    "        for i in range(num_offsp):\n",
    "            indiv=mutation_wrapper(in_orgs,0.00001)[0]\n",
    "            out_pop[counter]=indiv\n",
    "            #print(f\"Producing organism #{counter}\")\n",
    "            counter=counter+1\n",
    "            #print(np.all(out_pop[counter == out_pop[(counter-1)]]))\n",
    "    out_pop=cleanup_deads(out_pop) # removing any dead organisms.\n",
    "    return(out_pop)"
   ]
  },
  {
   "cell_type": "code",
   "execution_count": 25,
   "id": "4049ea41",
   "metadata": {},
   "outputs": [],
   "source": [
    "def clean_exit():\n",
    "    now=datetime.now()\n",
    "    moment=now.strftime(\"%m-%d-%Y_%H-%M-%S\")\n",
    "    filename=\"./EvolRun_\"+moment+\".dill\"\n",
    "    dill.dump_session(filename)\n",
    "    print(f\"Your session was saved in {filename}.\")"
   ]
  },
  {
   "cell_type": "code",
   "execution_count": 26,
   "id": "3190f597",
   "metadata": {},
   "outputs": [],
   "source": [
    "def cleanup_deads(in_pop):\n",
    "    in_pop=cp.deepcopy(in_pop)\n",
    "    tot_orgs=in_pop.shape[0]\n",
    "    fitnesses=np.array([ x[9] for x in in_pop[:] ])\n",
    "    live_ones=np.nonzero(fitnesses)[0]\n",
    "    #print(f\"current population has {live_ones.size} organisms alive\")\n",
    "    if live_ones.size == tot_orgs:\n",
    "        out_pop=in_pop\n",
    "    elif live_ones.size != 0:\n",
    "        #print(f\"{live_ones.size} organisms are dead. Sorry for your loss...\")\n",
    "        out_pop=in_pop[live_ones]\n",
    "    elif live_ones.size == 0:\n",
    "        print(f\"Your population went extinct. Sorry for your loss.\")\n",
    "        out_pop=np.array([])\n",
    "    return(out_pop)"
   ]
  },
  {
   "cell_type": "code",
   "execution_count": 27,
   "id": "2ad7e75c",
   "metadata": {},
   "outputs": [],
   "source": [
    "def select(in_pop,p=0.1,strategy='high pressure'):\n",
    "    in_pop=cp.deepcopy(in_pop)\n",
    "    pop_size=in_pop.shape[0]\n",
    "    num_survivors=int(pop_size*p)\n",
    "    if strategy == \"high pressure\":\n",
    "        fitnesses=np.array([ x[9] for x in in_pop[:] ])\n",
    "        out_idcs=np.argpartition(fitnesses,-num_survivors)[-num_survivors:] # returns the **indices** for the top 'num_survivors' fitnesses.\n",
    "    elif strategy == \"low pressure\" and p < 0.5:\n",
    "        fitnesses=np.array([ x[9] for x in in_pop[:] ])\n",
    "        half=np.floor_divide(pop_size,2)\n",
    "        top_half=np.argpartition(fitnesses,-half)[-half:]\n",
    "        out_idcs=np.random.choice(top_half,num_survivors,replace=False)\n",
    "    elif strategy == \"low pressure\" and p >= 0.5:\n",
    "        print(f\"Low pressure strategy is not recommended for offspring populations\\nresulting from more than half the parental population\\nDefaulting to total relaxation of selection...\")\n",
    "        out_idcs=np.random.choice(range(pop_size),num_survivors,replace=False)\n",
    "    elif strategy == \"totally relaxed\":\n",
    "        out_idcs=np.random.choice(range(pop_size),num_survivors,replace=False)\n",
    "    #print(f\"Out population will have indices {out_idcs}\")\n",
    "    out_pop=in_pop[out_idcs]\n",
    "    return(out_pop)\n",
    "    "
   ]
  },
  {
   "cell_type": "code",
   "execution_count": 28,
   "id": "9594953e",
   "metadata": {},
   "outputs": [],
   "source": [
    "def randsplit(in_pop,out_pop_size):\n",
    "    in_pop=cp.deepcopy(in_pop)\n",
    "    inpopsize=in_pop.shape[0]\n",
    "    idcs_lina=np.random.choice(range(inpopsize),int(inpopsize/2),replace=False)\n",
    "    idcs_linb=np.array([ rand for rand in np.arange(inpopsize) if rand not in idcs_lina])\n",
    "    lina=grow_pop(in_pop,out_pop_size,'equal')\n",
    "    linb=grow_pop(in_pop,out_pop_size,'equal')\n",
    "    return(lina,linb)"
   ]
  },
  {
   "cell_type": "code",
   "execution_count": 29,
   "id": "539f737d",
   "metadata": {},
   "outputs": [],
   "source": [
    "def main():\n",
    "    founder=founder_miner()\n",
    "    results_array=np.ndarray(13,dtype=object)\n",
    "    founder_pop=grow_pop(founder,pf.pop_size,'equal')\n",
    "    results_array[0]=cp.deepcopy(founder_pop)\n",
    "    stem_lin1,stem_lin2=randsplit(founder_pop,pf.pop_size)\n",
    "    results_array[1]=cp.deepcopy(stem_lin1)\n",
    "    results_array[2]=cp.deepcopy(stem_lin2)\n",
    "    two_branches=np.array([stem_lin1,stem_lin2])\n",
    "    n_genslist1=np.array([10000,10000])\n",
    "    if __name__ == \"__main__\":\n",
    "        with ProcessPoolExecutor() as pool:\n",
    "            result = pool.map(branch_evol,two_branches,n_genslist1)\n",
    "        \n",
    "    tip_lin1,tip_lin2=np.array(list(result),dtype=object)\n",
    "    results_array[3]=tip_lin1\n",
    "    results_array[4]=tip_lin2\n",
    "    \n",
    "    stem_lin3,stem_lin4=randsplit(tip_lin1,pf.pop_size)\n",
    "    results_array[5],results_array[6]=cp.deepcopy(stem_lin3),cp.deepcopy(stem_lin4)\n",
    "    stem_lin5,stem_lin6=randsplit(tip_lin2,pf.pop_size)\n",
    "    results_array[7],results_array[8]=cp.deepcopy(stem_lin5),cp.deepcopy(stem_lin6)\n",
    "    \n",
    "    four_branches=np.array([stem_lin3,stem_lin4, stem_lin5, stem_lin6])\n",
    "    n_genslist2=np.array([10000,10000,10000,10000])\n",
    "    \n",
    "    if __name__ == \"__main__\":\n",
    "        with ProcessPoolExecutor() as pool:\n",
    "            result = pool.map(branch_evol,four_branches,n_genslist2)\n",
    "        \n",
    "    \n",
    "    tip_lin3,tip_lin4,tip_lin5,tip_lin6=np.array(list(result),dtype=object)\n",
    "    results_array[9],results_array[10],results_array[11],results_array[12]=cp.deepcopy(tip_lin3),cp.deepcopy(tip_lin4),cp.deepcopy(tip_lin5),cp.deepcopy(tip_lin6)\n",
    "    return"
   ]
  },
  {
   "cell_type": "code",
   "execution_count": 30,
   "id": "32d2d4f1",
   "metadata": {},
   "outputs": [],
   "source": [
    "def branch_evol(in_pop,ngens):\n",
    "    in_pop=cp.deepcopy(in_pop)\n",
    "    if in_pop.size:\n",
    "        for gen in np.arange(ngens):\n",
    "            print(f\"producing generation {gen}\")\n",
    "            survivors=select(in_pop,pf.prop_survivors,pf.select_strategy)\n",
    "            next_pop=grow_pop(survivors,pf.pop_size,pf.reproductive_strategy)\n",
    "            in_pop=next_pop\n",
    "    else:\n",
    "        pass\n",
    "    return(in_pop)"
   ]
  },
  {
   "cell_type": "markdown",
   "id": "c15ee871",
   "metadata": {},
   "source": [
    "### Helper functions: doing multi-core analyses...\n",
    "These functions are from a course I did with the ACRC at the UoB, on parallelizing python. They're meant to prove a point and show an example, not blow anyone's mind."
   ]
  },
  {
   "cell_type": "code",
   "execution_count": null,
   "id": "e9f72b35",
   "metadata": {},
   "outputs": [],
   "source": [
    "def slow_add(nsecs, x, y):\n",
    "    print(f\"Process {os.getpid()} going to sleep for {nsecs} second(s)\")\n",
    "    time.sleep(nsecs)\n",
    "    \n",
    "    print(f\"Process {os.getpid()} waking up\")\n",
    "    return(x+y)"
   ]
  },
  {
   "cell_type": "code",
   "execution_count": null,
   "id": "212d15f4",
   "metadata": {},
   "outputs": [],
   "source": [
    "inpops=np.array([pop1,pop2])\n",
    "ingens=np.array([10,5])"
   ]
  },
  {
   "cell_type": "code",
   "execution_count": null,
   "id": "83dafb9b",
   "metadata": {},
   "outputs": [
    {
     "name": "stdout",
     "output_type": "stream",
     "text": [
      "producing generation 0\n",
      "producing generation 0\n",
      "producing generation 1\n",
      "producing generation 1\n",
      "producing generation 2\n",
      "producing generation 2\n",
      "producing generation 3\n",
      "producing generation 3\n",
      "producing generation 4\n",
      "producing generation 4\n",
      "producing generation 5\n",
      "producing generation 6\n",
      "producing generation 7\n",
      "producing generation 8\n",
      "producing generation 9\n"
     ]
    }
   ],
   "source": [
    "if __name__ == \"__main__\":\n",
    "    with ProcessPoolExecutor() as pool:\n",
    "        result = pool.map(branch_evol,inpops,ingens)\n",
    "        \n",
    "    ca1,ca2=np.array(list(result),dtype=object)"
   ]
  },
  {
   "cell_type": "code",
   "execution_count": null,
   "id": "9cfc8466",
   "metadata": {},
   "outputs": [
    {
     "data": {
      "text/plain": [
       "False"
      ]
     },
     "execution_count": 246,
     "metadata": {},
     "output_type": "execute_result"
    }
   ],
   "source": [
    "np.all(ca2[9][1] == ca1[9][1])"
   ]
  },
  {
   "cell_type": "markdown",
   "id": "328e238e",
   "metadata": {},
   "source": [
    "# TESTING GROUND:\n",
    "### Make the following steps into a function that produces a population\n",
    "**[ x[9] for x in F1_pop_array[:] ]**  to access element [9] of all members of the population 'F1_pop_array'"
   ]
  },
  {
   "cell_type": "code",
   "execution_count": 31,
   "id": "1931bfd1",
   "metadata": {},
   "outputs": [
    {
     "name": "stdout",
     "output_type": "stream",
     "text": [
      "producing generation 0\n",
      "producing generation 0\n",
      "producing generation 1\n",
      "producing generation 1\n",
      "producing generation 2\n",
      "producing generation 2\n",
      "producing generation 3\n",
      "producing generation 3\n"
     ]
    },
    {
     "ename": "KeyboardInterrupt",
     "evalue": "",
     "output_type": "error",
     "traceback": [
      "\u001b[0;31m---------------------------------------------------------------------------\u001b[0m",
      "\u001b[0;31mKeyboardInterrupt\u001b[0m                         Traceback (most recent call last)",
      "\u001b[0;32m/tmp/ipykernel_701/3301900946.py\u001b[0m in \u001b[0;36m<module>\u001b[0;34m\u001b[0m\n\u001b[0;32m----> 1\u001b[0;31m \u001b[0mresult_arr\u001b[0m\u001b[0;34m=\u001b[0m\u001b[0mmain\u001b[0m\u001b[0;34m(\u001b[0m\u001b[0;34m)\u001b[0m\u001b[0;34m\u001b[0m\u001b[0;34m\u001b[0m\u001b[0m\n\u001b[0m",
      "\u001b[0;32m/tmp/ipykernel_701/4025918321.py\u001b[0m in \u001b[0;36mmain\u001b[0;34m()\u001b[0m\n\u001b[1;32m     11\u001b[0m     \u001b[0;32mif\u001b[0m \u001b[0m__name__\u001b[0m \u001b[0;34m==\u001b[0m \u001b[0;34m\"__main__\"\u001b[0m\u001b[0;34m:\u001b[0m\u001b[0;34m\u001b[0m\u001b[0;34m\u001b[0m\u001b[0m\n\u001b[1;32m     12\u001b[0m         \u001b[0;32mwith\u001b[0m \u001b[0mProcessPoolExecutor\u001b[0m\u001b[0;34m(\u001b[0m\u001b[0;34m)\u001b[0m \u001b[0;32mas\u001b[0m \u001b[0mpool\u001b[0m\u001b[0;34m:\u001b[0m\u001b[0;34m\u001b[0m\u001b[0;34m\u001b[0m\u001b[0m\n\u001b[0;32m---> 13\u001b[0;31m             \u001b[0mresult\u001b[0m \u001b[0;34m=\u001b[0m \u001b[0mpool\u001b[0m\u001b[0;34m.\u001b[0m\u001b[0mmap\u001b[0m\u001b[0;34m(\u001b[0m\u001b[0mbranch_evol\u001b[0m\u001b[0;34m,\u001b[0m\u001b[0mtwo_branches\u001b[0m\u001b[0;34m,\u001b[0m\u001b[0mn_genslist1\u001b[0m\u001b[0;34m)\u001b[0m\u001b[0;34m\u001b[0m\u001b[0;34m\u001b[0m\u001b[0m\n\u001b[0m\u001b[1;32m     14\u001b[0m \u001b[0;34m\u001b[0m\u001b[0m\n\u001b[1;32m     15\u001b[0m     \u001b[0mtip_lin1\u001b[0m\u001b[0;34m,\u001b[0m\u001b[0mtip_lin2\u001b[0m\u001b[0;34m=\u001b[0m\u001b[0mnp\u001b[0m\u001b[0;34m.\u001b[0m\u001b[0marray\u001b[0m\u001b[0;34m(\u001b[0m\u001b[0mlist\u001b[0m\u001b[0;34m(\u001b[0m\u001b[0mresult\u001b[0m\u001b[0;34m)\u001b[0m\u001b[0;34m,\u001b[0m\u001b[0mdtype\u001b[0m\u001b[0;34m=\u001b[0m\u001b[0mobject\u001b[0m\u001b[0;34m)\u001b[0m\u001b[0;34m\u001b[0m\u001b[0;34m\u001b[0m\u001b[0m\n",
      "\u001b[0;32m~/miniconda3/envs/biopaiton/lib/python3.9/concurrent/futures/_base.py\u001b[0m in \u001b[0;36m__exit__\u001b[0;34m(self, exc_type, exc_val, exc_tb)\u001b[0m\n\u001b[1;32m    634\u001b[0m \u001b[0;34m\u001b[0m\u001b[0m\n\u001b[1;32m    635\u001b[0m     \u001b[0;32mdef\u001b[0m \u001b[0m__exit__\u001b[0m\u001b[0;34m(\u001b[0m\u001b[0mself\u001b[0m\u001b[0;34m,\u001b[0m \u001b[0mexc_type\u001b[0m\u001b[0;34m,\u001b[0m \u001b[0mexc_val\u001b[0m\u001b[0;34m,\u001b[0m \u001b[0mexc_tb\u001b[0m\u001b[0;34m)\u001b[0m\u001b[0;34m:\u001b[0m\u001b[0;34m\u001b[0m\u001b[0;34m\u001b[0m\u001b[0m\n\u001b[0;32m--> 636\u001b[0;31m         \u001b[0mself\u001b[0m\u001b[0;34m.\u001b[0m\u001b[0mshutdown\u001b[0m\u001b[0;34m(\u001b[0m\u001b[0mwait\u001b[0m\u001b[0;34m=\u001b[0m\u001b[0;32mTrue\u001b[0m\u001b[0;34m)\u001b[0m\u001b[0;34m\u001b[0m\u001b[0;34m\u001b[0m\u001b[0m\n\u001b[0m\u001b[1;32m    637\u001b[0m         \u001b[0;32mreturn\u001b[0m \u001b[0;32mFalse\u001b[0m\u001b[0;34m\u001b[0m\u001b[0;34m\u001b[0m\u001b[0m\n\u001b[1;32m    638\u001b[0m \u001b[0;34m\u001b[0m\u001b[0m\n",
      "\u001b[0;32m~/miniconda3/envs/biopaiton/lib/python3.9/concurrent/futures/process.py\u001b[0m in \u001b[0;36mshutdown\u001b[0;34m(self, wait, cancel_futures)\u001b[0m\n\u001b[1;32m    738\u001b[0m \u001b[0;34m\u001b[0m\u001b[0m\n\u001b[1;32m    739\u001b[0m         \u001b[0;32mif\u001b[0m \u001b[0mself\u001b[0m\u001b[0;34m.\u001b[0m\u001b[0m_executor_manager_thread\u001b[0m \u001b[0;32mis\u001b[0m \u001b[0;32mnot\u001b[0m \u001b[0;32mNone\u001b[0m \u001b[0;32mand\u001b[0m \u001b[0mwait\u001b[0m\u001b[0;34m:\u001b[0m\u001b[0;34m\u001b[0m\u001b[0;34m\u001b[0m\u001b[0m\n\u001b[0;32m--> 740\u001b[0;31m             \u001b[0mself\u001b[0m\u001b[0;34m.\u001b[0m\u001b[0m_executor_manager_thread\u001b[0m\u001b[0;34m.\u001b[0m\u001b[0mjoin\u001b[0m\u001b[0;34m(\u001b[0m\u001b[0;34m)\u001b[0m\u001b[0;34m\u001b[0m\u001b[0;34m\u001b[0m\u001b[0m\n\u001b[0m\u001b[1;32m    741\u001b[0m         \u001b[0;31m# To reduce the risk of opening too many files, remove references to\u001b[0m\u001b[0;34m\u001b[0m\u001b[0;34m\u001b[0m\u001b[0m\n\u001b[1;32m    742\u001b[0m         \u001b[0;31m# objects that use file descriptors.\u001b[0m\u001b[0;34m\u001b[0m\u001b[0;34m\u001b[0m\u001b[0m\n",
      "\u001b[0;32m~/miniconda3/envs/biopaiton/lib/python3.9/threading.py\u001b[0m in \u001b[0;36mjoin\u001b[0;34m(self, timeout)\u001b[0m\n\u001b[1;32m   1051\u001b[0m \u001b[0;34m\u001b[0m\u001b[0m\n\u001b[1;32m   1052\u001b[0m         \u001b[0;32mif\u001b[0m \u001b[0mtimeout\u001b[0m \u001b[0;32mis\u001b[0m \u001b[0;32mNone\u001b[0m\u001b[0;34m:\u001b[0m\u001b[0;34m\u001b[0m\u001b[0;34m\u001b[0m\u001b[0m\n\u001b[0;32m-> 1053\u001b[0;31m             \u001b[0mself\u001b[0m\u001b[0;34m.\u001b[0m\u001b[0m_wait_for_tstate_lock\u001b[0m\u001b[0;34m(\u001b[0m\u001b[0;34m)\u001b[0m\u001b[0;34m\u001b[0m\u001b[0;34m\u001b[0m\u001b[0m\n\u001b[0m\u001b[1;32m   1054\u001b[0m         \u001b[0;32melse\u001b[0m\u001b[0;34m:\u001b[0m\u001b[0;34m\u001b[0m\u001b[0;34m\u001b[0m\u001b[0m\n\u001b[1;32m   1055\u001b[0m             \u001b[0;31m# the behavior of a negative timeout isn't documented, but\u001b[0m\u001b[0;34m\u001b[0m\u001b[0;34m\u001b[0m\u001b[0m\n",
      "\u001b[0;32m~/miniconda3/envs/biopaiton/lib/python3.9/threading.py\u001b[0m in \u001b[0;36m_wait_for_tstate_lock\u001b[0;34m(self, block, timeout)\u001b[0m\n\u001b[1;32m   1067\u001b[0m         \u001b[0;32mif\u001b[0m \u001b[0mlock\u001b[0m \u001b[0;32mis\u001b[0m \u001b[0;32mNone\u001b[0m\u001b[0;34m:\u001b[0m  \u001b[0;31m# already determined that the C code is done\u001b[0m\u001b[0;34m\u001b[0m\u001b[0;34m\u001b[0m\u001b[0m\n\u001b[1;32m   1068\u001b[0m             \u001b[0;32massert\u001b[0m \u001b[0mself\u001b[0m\u001b[0;34m.\u001b[0m\u001b[0m_is_stopped\u001b[0m\u001b[0;34m\u001b[0m\u001b[0;34m\u001b[0m\u001b[0m\n\u001b[0;32m-> 1069\u001b[0;31m         \u001b[0;32melif\u001b[0m \u001b[0mlock\u001b[0m\u001b[0;34m.\u001b[0m\u001b[0macquire\u001b[0m\u001b[0;34m(\u001b[0m\u001b[0mblock\u001b[0m\u001b[0;34m,\u001b[0m \u001b[0mtimeout\u001b[0m\u001b[0;34m)\u001b[0m\u001b[0;34m:\u001b[0m\u001b[0;34m\u001b[0m\u001b[0;34m\u001b[0m\u001b[0m\n\u001b[0m\u001b[1;32m   1070\u001b[0m             \u001b[0mlock\u001b[0m\u001b[0;34m.\u001b[0m\u001b[0mrelease\u001b[0m\u001b[0;34m(\u001b[0m\u001b[0;34m)\u001b[0m\u001b[0;34m\u001b[0m\u001b[0;34m\u001b[0m\u001b[0m\n\u001b[1;32m   1071\u001b[0m             \u001b[0mself\u001b[0m\u001b[0;34m.\u001b[0m\u001b[0m_stop\u001b[0m\u001b[0;34m(\u001b[0m\u001b[0;34m)\u001b[0m\u001b[0;34m\u001b[0m\u001b[0;34m\u001b[0m\u001b[0m\n",
      "\u001b[0;31mKeyboardInterrupt\u001b[0m: "
     ]
    }
   ],
   "source": [
    "result_arr=main()"
   ]
  },
  {
   "cell_type": "code",
   "execution_count": null,
   "id": "8b7edead",
   "metadata": {},
   "outputs": [
    {
     "data": {
      "text/plain": [
       "0.5566625185147221"
      ]
     },
     "execution_count": 265,
     "metadata": {},
     "output_type": "execute_result"
    }
   ],
   "source": [
    "org1[0][9]"
   ]
  },
  {
   "cell_type": "code",
   "execution_count": null,
   "id": "79426196",
   "metadata": {},
   "outputs": [
    {
     "data": {
      "text/plain": [
       "array([ 0.        ,  0.        ,  0.        ,  1.00109397,  0.        ,\n",
       "        0.        ,  0.        , -0.42804692,  0.        ,  0.        ])"
      ]
     },
     "execution_count": 36,
     "metadata": {},
     "output_type": "execute_result"
    }
   ],
   "source": []
  },
  {
   "cell_type": "code",
   "execution_count": null,
   "id": "9b6b6e9c",
   "metadata": {},
   "outputs": [
    {
     "data": {
      "text/plain": [
       "(100,)"
      ]
     },
     "execution_count": 266,
     "metadata": {},
     "output_type": "execute_result"
    }
   ],
   "source": [
    "popx=grow_pop(org1,pf.pop_size,'equal')\n",
    "popx.shape"
   ]
  },
  {
   "cell_type": "code",
   "execution_count": null,
   "id": "d5623c82",
   "metadata": {},
   "outputs": [],
   "source": [
    "popy,popz=randsplit(popx,pf.pop_size)"
   ]
  },
  {
   "cell_type": "code",
   "execution_count": null,
   "id": "b767e6bb",
   "metadata": {},
   "outputs": [
    {
     "name": "stderr",
     "output_type": "stream",
     "text": [
      "/tmp/ipykernel_227/1773804539.py:1: DeprecationWarning: elementwise comparison failed; this will raise an error in the future.\n",
      "  np.any(popy == popz)\n"
     ]
    },
    {
     "data": {
      "text/plain": [
       "False"
      ]
     },
     "execution_count": 273,
     "metadata": {},
     "output_type": "execute_result"
    }
   ],
   "source": [
    "np.any(popy == popz)"
   ]
  },
  {
   "cell_type": "code",
   "execution_count": null,
   "id": "c6b93174",
   "metadata": {},
   "outputs": [],
   "source": [
    "result=np.ndarray(tip.shape[0],dtype=object)\n",
    "for i in np.arange(tip.shape[0]):\n",
    "    result[i]=np.all(tip[0][1] == tip[i][1])\n",
    "l8r_offsp=np.where(result == False)[0]"
   ]
  },
  {
   "cell_type": "code",
   "execution_count": null,
   "id": "6a85ba15",
   "metadata": {},
   "outputs": [],
   "source": [
    "arr=np.array([])"
   ]
  },
  {
   "cell_type": "code",
   "execution_count": null,
   "id": "3283feec",
   "metadata": {},
   "outputs": [
    {
     "data": {
      "text/plain": [
       "0"
      ]
     },
     "execution_count": 237,
     "metadata": {},
     "output_type": "execute_result"
    }
   ],
   "source": [
    "arr.size"
   ]
  },
  {
   "cell_type": "code",
   "execution_count": null,
   "id": "ab1c0234",
   "metadata": {},
   "outputs": [
    {
     "data": {
      "text/plain": [
       "array([12,  9,  4,  0,  3])"
      ]
     },
     "execution_count": 262,
     "metadata": {},
     "output_type": "execute_result"
    }
   ],
   "source": [
    "x=np.array(range(20))\n",
    "np.random.choice(x,5)"
   ]
  },
  {
   "cell_type": "code",
   "execution_count": null,
   "id": "abeca780",
   "metadata": {},
   "outputs": [
    {
     "data": {
      "text/plain": [
       "(array([0, 0, 0, ..., 9, 9, 9]), array([  0,   1,   2, ..., 330, 331, 332]))"
      ]
     },
     "execution_count": 167,
     "metadata": {},
     "output_type": "execute_result"
    }
   ],
   "source": [
    "np.where(tip[4][1] == pop1[4][1])"
   ]
  },
  {
   "cell_type": "code",
   "execution_count": null,
   "id": "3a00ba29",
   "metadata": {},
   "outputs": [],
   "source": []
  },
  {
   "cell_type": "code",
   "execution_count": null,
   "id": "9dc315e9",
   "metadata": {},
   "outputs": [
    {
     "data": {
      "text/plain": [
       "(array([  0,   1,   2,   3,   4,   5,   6,   7,   8,   9,  10,  11,  12,\n",
       "         13,  14,  15,  16,  17,  18,  19,  20,  21,  22,  23,  24,  25,\n",
       "         26,  27,  28,  29,  30,  31,  32,  33,  34,  35,  36,  37,  38,\n",
       "         39,  40,  41,  42,  43,  44,  45,  46,  47,  48,  49,  50,  51,\n",
       "         52,  53,  54,  55,  56,  57,  58,  59,  60,  61,  62,  63,  64,\n",
       "         65,  66,  67,  68,  69,  70,  71,  72,  73,  74,  75,  76,  77,\n",
       "         78,  79,  80,  81,  82,  83,  84,  85,  86,  87,  88,  89,  90,\n",
       "         91,  92,  93,  94,  95,  96,  97,  98,  99, 100, 101, 102, 103,\n",
       "        104, 105, 106, 107, 108, 109, 110, 111, 112, 113, 114, 115, 116,\n",
       "        117, 118, 119, 120, 121, 122, 123, 124, 125, 126, 127, 128, 129,\n",
       "        130, 131, 132, 133, 134, 135, 136, 137, 138, 139, 140, 141, 142,\n",
       "        143, 144, 145, 146, 147, 148, 149, 150, 151, 152, 153, 154, 155,\n",
       "        156, 157, 158, 159, 160, 161, 162, 163, 164, 165, 166, 167, 168,\n",
       "        169, 170, 171, 172, 173, 174, 175, 176, 177, 178, 179, 180, 181,\n",
       "        182, 183, 184, 185, 186, 187, 188, 189, 190, 191, 192, 193, 194,\n",
       "        195, 196, 197, 198, 199, 200, 201, 202, 203, 204, 205, 206, 207,\n",
       "        208, 209, 210, 211, 212, 213, 214, 215, 216, 217, 218, 219, 220,\n",
       "        221, 222, 223, 224, 225, 226, 227, 228, 229, 230, 231, 232, 233,\n",
       "        234, 235, 236, 237, 238, 239, 240, 241, 242, 243, 244, 245, 246,\n",
       "        247, 248, 249, 250, 251, 252, 253, 254, 255, 256, 257, 258, 259,\n",
       "        260, 261, 262, 263, 264, 265, 266, 267, 268, 269, 270, 271, 272,\n",
       "        273, 274, 275, 276, 277, 278, 279, 280, 281, 282, 283, 284, 285,\n",
       "        286, 287, 288, 289, 290, 291, 292, 293, 294, 295, 296, 297, 298,\n",
       "        299, 300, 301, 302, 303, 304, 305, 306, 307, 308, 309, 310, 311,\n",
       "        312, 313, 314, 315, 316, 317, 318, 319, 320, 321, 322, 323, 324,\n",
       "        325, 326, 327, 328, 329, 330, 331, 332, 333, 334, 335, 336, 337,\n",
       "        338, 339, 340, 341, 342, 343, 344, 345, 346, 347, 348, 349, 350,\n",
       "        351, 352, 353, 354, 355, 356, 357, 358, 359, 360, 361, 362, 363,\n",
       "        364, 365, 366, 367, 368, 369, 370, 371, 372, 373, 374, 375, 376,\n",
       "        377, 378, 379, 380, 381, 382, 383, 384, 385, 386, 387, 388, 389,\n",
       "        390, 391, 392, 393, 394, 395, 396, 397, 398, 399, 400, 401, 402,\n",
       "        403, 404, 405, 406, 407, 408, 409, 410, 411, 412, 413, 414, 415,\n",
       "        416, 417, 418, 419, 420, 421, 422, 423, 424, 425, 426, 427, 428,\n",
       "        429, 430, 431, 432, 433, 434, 435, 436, 437, 438, 439, 440, 441,\n",
       "        442, 443, 444, 445, 446, 447, 448, 449, 450, 451, 452, 453, 454,\n",
       "        455, 456, 457, 458, 459, 460, 461, 462, 463, 464, 465, 466, 467,\n",
       "        468, 469, 470, 471, 472, 473, 474, 475, 476, 477, 478, 479, 480,\n",
       "        481, 482, 483, 484, 485, 486, 487, 488, 489, 490, 491, 492, 493,\n",
       "        494, 495, 496, 497, 498, 499, 500, 501, 502, 503, 504, 505, 506,\n",
       "        507, 508, 509, 510, 511, 512, 513, 514, 515, 516, 517, 518, 519,\n",
       "        520, 521, 522, 523, 524, 525, 526, 527, 528, 529, 530, 531, 532,\n",
       "        533, 534, 535, 536, 537, 538, 539, 540, 541, 542, 543, 544, 545,\n",
       "        546, 547, 548, 549, 550, 551, 552, 553, 554, 555, 556, 557, 558,\n",
       "        559, 560, 561, 562, 563, 564, 565, 566, 567, 568, 569, 570, 571,\n",
       "        572, 573, 574, 575, 576, 577, 578, 579, 580, 581, 582, 583, 584,\n",
       "        585, 586, 587, 588, 589, 590, 591, 592, 593, 594, 595, 596, 597,\n",
       "        598, 599, 600, 601, 602, 603, 604, 605, 606, 607, 608, 609, 610,\n",
       "        611, 612, 613, 614, 615, 616, 617, 618, 619, 620, 621, 622, 623,\n",
       "        624, 625, 626, 627, 628, 629, 630, 631, 632, 633, 634, 635, 636,\n",
       "        637, 638, 639, 640, 641, 642, 643, 644, 645, 646, 647, 648, 649,\n",
       "        650, 651, 652, 653, 654, 655, 656, 657, 658, 659, 660, 661, 662,\n",
       "        663, 664, 665, 666, 667, 668, 669, 670, 671, 672, 673, 674, 675,\n",
       "        676, 677, 678, 679, 680, 681, 682, 683, 684, 685, 686, 687, 688,\n",
       "        689, 690, 691, 692, 693, 694, 695, 696, 697, 698, 699, 700, 701,\n",
       "        702, 703, 704, 705, 706, 707, 708, 709, 710, 711, 712, 713, 714,\n",
       "        715, 716, 717, 718, 719, 720, 721, 722, 723, 724, 725, 726, 727,\n",
       "        728, 729, 730, 731, 732, 733, 734, 735, 736, 737, 738, 739, 740,\n",
       "        741, 742, 743, 744, 745, 746, 747, 748, 749, 750, 751, 752, 753,\n",
       "        754, 755, 756, 757, 758, 759, 760, 761, 762, 763, 764, 765, 766,\n",
       "        767, 768, 769, 770, 771, 772, 773, 774, 775, 776, 777, 778, 779,\n",
       "        780, 781, 782, 783, 784, 785, 786, 787, 788, 789, 790, 791, 792,\n",
       "        793, 794, 795, 796, 797, 798, 799, 800, 801, 802, 803, 804, 805,\n",
       "        806, 807, 808, 809, 810, 811, 812, 813, 814, 815, 816, 817, 818,\n",
       "        819, 820, 821, 822, 823, 824, 825, 826, 827, 828, 829, 830, 831,\n",
       "        832, 833, 834, 835, 836, 837, 838, 839, 840, 841, 842, 843, 844,\n",
       "        845, 846, 847, 848, 849, 850, 851, 852, 853, 854, 855, 856, 857,\n",
       "        858, 859, 860, 861, 862, 863, 864, 865, 866, 867, 868, 869, 870,\n",
       "        871, 872, 873, 874, 875, 876, 877, 878, 879, 880, 881, 882, 883,\n",
       "        884, 885, 886, 887, 888, 889, 890, 891, 892, 893, 894, 895, 896,\n",
       "        897, 898, 899, 900, 901, 902, 903, 904, 905, 906, 907, 908, 909,\n",
       "        910, 911, 912, 913, 914, 915, 916, 917, 918, 919, 920, 921, 922,\n",
       "        923, 924, 925, 926, 927, 928, 929, 930, 931, 932, 933, 934, 935,\n",
       "        936, 937, 938, 939, 940, 941, 942, 943, 944, 945, 946, 947, 948,\n",
       "        949, 950, 951, 952, 953, 954, 955, 956, 957, 958, 959, 960, 961,\n",
       "        962, 963, 964, 965, 966, 967, 968, 969, 970, 971, 972, 973, 974,\n",
       "        975, 976, 977, 978, 979, 980, 981, 982, 983, 984, 985, 986, 987,\n",
       "        988, 989, 990, 991, 992, 993, 994, 995, 996, 997, 998, 999]),)"
      ]
     },
     "execution_count": 115,
     "metadata": {},
     "output_type": "execute_result"
    }
   ],
   "source": [
    "np.nonzero(fitnesses)"
   ]
  },
  {
   "cell_type": "code",
   "execution_count": null,
   "id": "22798607",
   "metadata": {},
   "outputs": [
    {
     "data": {
      "text/plain": [
       "array([0.55773542, 0.55773542, 0.55787606, 0.55787606, 0.55787606,\n",
       "       0.55787606, 0.55787606, 0.55787606, 0.55787606, 0.55787606,\n",
       "       0.55787606, 0.55787606, 0.55787606, 0.55787606, 0.55787606,\n",
       "       0.55787606, 0.55787606, 0.55787606, 0.55773542, 0.55773542,\n",
       "       0.55787606, 0.55787606, 0.55787606, 0.55787606, 0.55787606,\n",
       "       0.56278479, 0.55773542, 0.55787606, 0.55787606, 0.55787606,\n",
       "       0.55787606, 0.55787606, 0.55787606, 0.55787606, 0.55787606,\n",
       "       0.55787606, 0.55787606, 0.55787606, 0.55787606, 0.55787606,\n",
       "       0.55787606, 0.55773542, 0.55787606, 0.55787606, 0.55787606,\n",
       "       0.55787606, 0.55787606, 0.55787606, 0.55787606, 0.55787606,\n",
       "       0.55787606, 0.55787606, 0.55787606, 0.55773542, 0.55787606,\n",
       "       0.55787606, 0.55787606, 0.55787606, 0.55787606, 0.55787606,\n",
       "       0.55787606, 0.55787606, 0.55787606, 0.55787606, 0.55787606,\n",
       "       0.55787606, 0.55787606, 0.55787606, 0.55773542, 0.55787606,\n",
       "       0.55787606, 0.55787606, 0.55787606, 0.55787606, 0.55787606,\n",
       "       0.55787606, 0.55787606, 0.55787606, 0.55773581, 0.55787606,\n",
       "       0.55787606, 0.55787606, 0.55787606, 0.55787606, 0.55787606,\n",
       "       0.55787606, 0.55592442, 0.55787606, 0.55787606, 0.55787606,\n",
       "       0.55787606, 0.55787606, 0.55787606, 0.55787606, 0.55787606,\n",
       "       0.55787606, 0.55787606, 0.55787606])"
      ]
     },
     "execution_count": 65,
     "metadata": {},
     "output_type": "execute_result"
    }
   ],
   "source": [
    "fitnesses[z]"
   ]
  },
  {
   "cell_type": "code",
   "execution_count": null,
   "id": "80011950",
   "metadata": {},
   "outputs": [
    {
     "data": {
      "text/plain": [
       "array([337, 754, 727, 278, 276, 389, 193, 587, 642, 930])"
      ]
     },
     "execution_count": 61,
     "metadata": {},
     "output_type": "execute_result"
    }
   ],
   "source": [
    "num_survivors=int(1000*0.01)\n",
    "np.argpartition(fitnesses,-num_survivors)[-num_survivors:]"
   ]
  },
  {
   "cell_type": "code",
   "execution_count": null,
   "id": "f3b9fc40",
   "metadata": {},
   "outputs": [
    {
     "data": {
      "text/plain": [
       "array([[ 1.00000000e+00,  1.00000000e+00,  1.00000000e+00,\n",
       "         1.00000000e+00,  1.00000000e+00,  1.00000000e+00,\n",
       "         1.00000000e+00,  1.00000000e+00,  1.00000000e+00,\n",
       "         1.00000000e+00],\n",
       "       [ 0.00000000e+00,  4.90802077e+00,  1.92032851e+00,\n",
       "         2.72168102e+00,  1.28491513e+00,  2.16789378e+00,\n",
       "         4.49500815e+00,  1.78714166e+00,  1.32005717e+00,\n",
       "         3.42566426e+00],\n",
       "       [-0.00000000e+00,  1.16438972e+01,  6.72315950e+00,\n",
       "         1.74215939e+00,  6.35888774e+00,  0.00000000e+00,\n",
       "         1.28271295e+01,  2.79855190e+00,  2.02688099e+00,\n",
       "         8.08654564e+00],\n",
       "       [-0.00000000e+00,  3.01725195e+01,  1.67495382e+01,\n",
       "         5.87656074e+00,  1.93338949e+01,  0.00000000e+00,\n",
       "         3.98479476e+01,  7.80389738e+00,  2.62741691e+00,\n",
       "         2.61244769e+01],\n",
       "       [-0.00000000e+00,  8.90134016e+01,  5.28381176e+01,\n",
       "         1.62815265e+01,  6.12510852e+01,  6.14982045e+00,\n",
       "         1.22367573e+02,  2.30224115e+01,  6.42979188e+00,\n",
       "         7.95328687e+01],\n",
       "       [-0.00000000e+00,  2.72152519e+02,  1.62688350e+02,\n",
       "         4.55186563e+01,  1.87664269e+02,  2.00046232e+01,\n",
       "         3.77646568e+02,  7.12356927e+01,  1.82943485e+01,\n",
       "         2.46789550e+02],\n",
       "       [-0.00000000e+00,  8.37794455e+02,  5.01197963e+02,\n",
       "         1.35485556e+02,  5.79743205e+02,  6.30895751e+01,\n",
       "         1.16323193e+03,  2.18954058e+02,  5.64243380e+01,\n",
       "         7.60226226e+02],\n",
       "       [-0.00000000e+00,  2.58138736e+03,  1.54248985e+03,\n",
       "         4.14727453e+02,  1.78724233e+03,  1.94471621e+02,\n",
       "         3.58536123e+03,  6.75294089e+02,  1.73231278e+02,\n",
       "         2.34460729e+03],\n",
       "       [-0.00000000e+00,  7.95760006e+03,  4.75366655e+03,\n",
       "         1.27650275e+03,  5.51130015e+03,  6.00343151e+02,\n",
       "         1.10518501e+04,  2.08210699e+03,  5.34351993e+02,\n",
       "         7.22782932e+03],\n",
       "       [-0.00000000e+00,  2.45333208e+04,  1.46526342e+04,\n",
       "         3.93469746e+03,  1.69914624e+04,  1.85081673e+03,\n",
       "         3.40711918e+04,  6.42028096e+03,  1.64784240e+03,\n",
       "         2.22837408e+04],\n",
       "       [-0.00000000e+00,  7.56376819e+04,  4.51714969e+04,\n",
       "         1.21306551e+04,  5.23853610e+04,  5.70659738e+03,\n",
       "         1.05039131e+05,  1.97949689e+04,  5.08195020e+03,\n",
       "         6.86999644e+04],\n",
       "       [-0.00000000e+00,  2.33193215e+05,  1.39259779e+05,\n",
       "         3.73998737e+04,  1.61503350e+05,  1.75934293e+04,\n",
       "         3.23832811e+05,  6.10296691e+04,  1.56696981e+04,\n",
       "         2.11801045e+05],\n",
       "       [-0.00000000e+00,  7.18936329e+05,  4.29332592e+05,\n",
       "         1.15305248e+05,  4.97912594e+05,  5.42407734e+04,\n",
       "         9.98370839e+05,  1.88155685e+05,  4.83125042e+04,\n",
       "         6.52978667e+05],\n",
       "       [-0.00000000e+00,  2.21647630e+06,  1.32362164e+06,\n",
       "         3.55487115e+05,  1.53505590e+06,  1.67223662e+05,\n",
       "         3.07796250e+06,  5.80083433e+05,  1.48949975e+05,\n",
       "         2.01312233e+06],\n",
       "       [-0.00000000e+00,  6.83336962e+06,  4.08070012e+06,\n",
       "         1.09596415e+06,  4.73255137e+06,  5.15548369e+05,\n",
       "         9.48931246e+06,  1.78838989e+06,  4.59213909e+05,\n",
       "         6.20642233e+06],\n",
       "       [-0.00000000e+00,  2.10671781e+07,  1.25807273e+07,\n",
       "         3.37884255e+06,  1.45903761e+07,  1.58942758e+06,\n",
       "         2.92554045e+07,  5.51357825e+06,  1.41575185e+06,\n",
       "         1.91342974e+07]])"
      ]
     },
     "execution_count": 66,
     "metadata": {},
     "output_type": "execute_result"
    }
   ],
   "source": [
    "y[0][7]"
   ]
  },
  {
   "cell_type": "code",
   "execution_count": null,
   "id": "e43752d0",
   "metadata": {},
   "outputs": [
    {
     "data": {
      "text/plain": [
       "[0.7488968851985286,\n",
       " 0.748906839833955,\n",
       " 0.7489042964594449,\n",
       " 0.7489314685263534,\n",
       " 0.7489549086396666,\n",
       " 0.7490591115637336,\n",
       " 0.7488971958022853,\n",
       " 0.7489151224345402,\n",
       " 0.7489176914659404,\n",
       " 0.7489439055554271]"
      ]
     },
     "execution_count": 45,
     "metadata": {},
     "output_type": "execute_result"
    }
   ],
   "source": [
    "[x[9] for x in subsel]"
   ]
  },
  {
   "cell_type": "code",
   "execution_count": null,
   "id": "0e866ca0",
   "metadata": {},
   "outputs": [
    {
     "data": {
      "text/plain": [
       "array([0, 1, 2, 3, 4, 5, 6, 7, 8, 9])"
      ]
     },
     "execution_count": 71,
     "metadata": {},
     "output_type": "execute_result"
    }
   ],
   "source": [
    "x=np.arange(10)\n",
    "x"
   ]
  },
  {
   "cell_type": "code",
   "execution_count": null,
   "id": "7cbb0b5a",
   "metadata": {},
   "outputs": [
    {
     "data": {
      "text/plain": [
       "array([3, 6, 5, 7])"
      ]
     },
     "execution_count": 74,
     "metadata": {},
     "output_type": "execute_result"
    }
   ],
   "source": [
    "c=np.random.choice(x,4,replace=False)\n",
    "c"
   ]
  },
  {
   "cell_type": "code",
   "execution_count": null,
   "id": "76d9ae1a",
   "metadata": {},
   "outputs": [
    {
     "data": {
      "text/plain": [
       "[0, 1, 2, 4, 8, 9]"
      ]
     },
     "execution_count": 76,
     "metadata": {},
     "output_type": "execute_result"
    }
   ],
   "source": [
    "[ g for g in x[:] if g not in c ]"
   ]
  },
  {
   "cell_type": "code",
   "execution_count": null,
   "id": "d1598b6d",
   "metadata": {},
   "outputs": [],
   "source": []
  }
 ],
 "metadata": {
  "kernelspec": {
   "display_name": "Python 3 (ipykernel)",
   "language": "python",
   "name": "python3"
  },
  "language_info": {
   "codemirror_mode": {
    "name": "ipython",
    "version": 3
   },
   "file_extension": ".py",
   "mimetype": "text/x-python",
   "name": "python",
   "nbconvert_exporter": "python",
   "pygments_lexer": "ipython3",
   "version": "3.9.9"
  }
 },
 "nbformat": 4,
 "nbformat_minor": 5
}
